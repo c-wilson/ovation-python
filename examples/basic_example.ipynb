{
 "metadata": {
  "name": "basic_example"
 },
 "nbformat": 3,
 "nbformat_minor": 0,
 "worksheets": [
  {
   "cells": [
    {
     "cell_type": "heading",
     "level": 1,
     "metadata": {},
     "source": [
      "Ovation Python API Introduction"
     ]
    },
    {
     "cell_type": "heading",
     "level": 2,
     "metadata": {},
     "source": [
      "Initialization"
     ]
    },
    {
     "cell_type": "markdown",
     "metadata": {},
     "source": [
      "You must call `initVM()` before using the Ovation API wrapper"
     ]
    },
    {
     "cell_type": "code",
     "collapsed": false,
     "input": [
      "from ovation import *\n",
      "from ovation.core import *\n",
      "from ovation.connection import connect, nbgetpass\n",
      "import numpy as np\n",
      "import quantities as qp"
     ],
     "language": "python",
     "metadata": {},
     "outputs": [],
     "prompt_number": 1
    },
    {
     "cell_type": "code",
     "collapsed": false,
     "input": [
      "initVM()"
     ],
     "language": "python",
     "metadata": {},
     "outputs": [
      {
       "output_type": "pyout",
       "prompt_number": 2,
       "text": [
        "<jcc.JCCEnv at 0x108f5f648>"
       ]
      }
     ],
     "prompt_number": 2
    },
    {
     "cell_type": "heading",
     "level": 2,
     "metadata": {},
     "source": [
      "Data Store Coordinator"
     ]
    },
    {
     "cell_type": "markdown",
     "metadata": {},
     "source": [
      "Create a `DataStoreCoordinator` for creating a `DataContext`"
     ]
    },
    {
     "cell_type": "code",
     "collapsed": false,
     "input": [
      "nbgetpass(email=\"ovation_email\", passwd=\"ovation_pw\")"
     ],
     "language": "python",
     "metadata": {},
     "outputs": [
      {
       "javascript": [
        "\n",
        "var dialog = $('<div/>').append(\n",
        "    $('<input/>')\n",
        "    .attr('id', 'email')\n",
        "    .attr('name', 'email')\n",
        "    .attr('type', 'email')\n",
        "    .attr('value', '')\n",
        "    ).append(\n",
        "        $('<input/>')\n",
        "        .attr('id', 'password')\n",
        "        .attr('name', 'password')\n",
        "        .attr('type', 'password')\n",
        "        .attr('value', '')\n",
        "    );\n",
        "$(document).append(dialog);\n",
        "dialog.dialog({\n",
        "    resizable: false,\n",
        "    modal: true,\n",
        "    title: \"Ovation.io Credentials\",\n",
        "    closeText: '',\n",
        "    buttons : {\n",
        "        \"Okay\": function () {\n",
        "            IPython.notebook.kernel.execute(\n",
        "                \"ovation_pw = '\" + $(\"input#password\").attr('value') + \"'\"\n",
        "            );\n",
        "            IPython.notebook.kernel.execute(\n",
        "                \"ovation_email = '\" + $(\"input#email\").attr('value') + \"'\"\n",
        "            );\n",
        "            $(this).dialog('close');\n",
        "            dialog.remove();\n",
        "        },\n",
        "        \"Cancel\": function () {\n",
        "            $(this).dialog('close');\n",
        "            dialog.remove();\n",
        "        }\n",
        "    }\n",
        "});\n"
       ],
       "output_type": "display_data"
      }
     ],
     "prompt_number": 3
    },
    {
     "cell_type": "code",
     "collapsed": false,
     "input": [
      "dataStoreCoordinator = connect(ovation_email, ovation_pw)\n"
     ],
     "language": "python",
     "metadata": {},
     "outputs": [],
     "prompt_number": 4
    },
    {
     "cell_type": "code",
     "collapsed": false,
     "input": [
      "del ovation_pw\n",
      "del ovation_email"
     ],
     "language": "python",
     "metadata": {},
     "outputs": [],
     "prompt_number": 5
    },
    {
     "cell_type": "markdown",
     "metadata": {},
     "source": [
      "Create a `DataContext` for interacting with the Ovation database"
     ]
    },
    {
     "cell_type": "code",
     "collapsed": false,
     "input": [
      "ctx = dataStoreCoordinator.getContext()"
     ],
     "language": "python",
     "metadata": {},
     "outputs": [],
     "prompt_number": 6
    },
    {
     "cell_type": "code",
     "collapsed": false,
     "input": [
      "source = ctx.insertSource('python','example-id')"
     ],
     "language": "python",
     "metadata": {},
     "outputs": [],
     "prompt_number": 7
    },
    {
     "cell_type": "code",
     "collapsed": false,
     "input": [
      "protocol = ctx.insertProtocol('protocol-1', 'We did something!')"
     ],
     "language": "python",
     "metadata": {},
     "outputs": [],
     "prompt_number": 8
    },
    {
     "cell_type": "code",
     "collapsed": false,
     "input": [
      "project = ctx.insertProject('A project', 'Inserting data from Python', DateTime())"
     ],
     "language": "python",
     "metadata": {},
     "outputs": [],
     "prompt_number": 9
    },
    {
     "cell_type": "code",
     "collapsed": false,
     "input": [
      "experiment = project.insertExperiment('An Experiment', DateTime())"
     ],
     "language": "python",
     "metadata": {},
     "outputs": [],
     "prompt_number": 10
    },
    {
     "cell_type": "code",
     "collapsed": false,
     "input": [
      "epochGroup = EpochGroupContainer.cast_(experiment).insertEpochGroup('Trial group', DateTime(), None, None, None) # No protocol, params, or deviceParams"
     ],
     "language": "python",
     "metadata": {},
     "outputs": [],
     "prompt_number": 11
    },
    {
     "cell_type": "code",
     "collapsed": false,
     "input": [
      "params = Maps.newHashMap()\n",
      "params.put('param1', 'value1')\n",
      "params.put('param2', 2)\n",
      "start = DateTime()\n",
      "end = start.plusSeconds(10)\n",
      "epoch = epochGroup.insertEpoch(start, end, protocol, params, params)"
     ],
     "language": "python",
     "metadata": {},
     "outputs": [],
     "prompt_number": 12
    },
    {
     "cell_type": "code",
     "collapsed": false,
     "input": [
      "data = NumericData()\n",
      "data.addData(\"trace1\", JArray_double(np.random.randn(10 * 1000)), \"mV\", 1000., 'Hz')"
     ],
     "language": "python",
     "metadata": {},
     "outputs": [
      {
       "output_type": "pyout",
       "prompt_number": 13,
       "text": [
        "<NumericData: us.physion.ovation.values.NumericData@98c64f63>"
       ]
      }
     ],
     "prompt_number": 13
    },
    {
     "cell_type": "code",
     "collapsed": false,
     "input": [
      "m = epoch.insertNumericMeasurement(\"trace1\", None, None, data)"
     ],
     "language": "python",
     "metadata": {},
     "outputs": [],
     "prompt_number": 14
    },
    {
     "cell_type": "code",
     "collapsed": false,
     "input": [
      "epoch.getUuid()"
     ],
     "language": "python",
     "metadata": {},
     "outputs": [
      {
       "output_type": "pyout",
       "prompt_number": 15,
       "text": [
        "<UUID: ff3d165d-35a4-491d-b441-7f3c3dc09b8e>"
       ]
      }
     ],
     "prompt_number": 15
    },
    {
     "cell_type": "code",
     "collapsed": false,
     "input": [
      "epoch.getMeasurements()"
     ],
     "language": "python",
     "metadata": {},
     "outputs": [
      {
       "output_type": "pyout",
       "prompt_number": 16,
       "text": [
        "<Iterable: [us.physion.ovation.domain.impl.NumericMeasurement@e5f3b831]>"
       ]
      }
     ],
     "prompt_number": 16
    },
    {
     "cell_type": "code",
     "collapsed": false,
     "input": [
      "m.getName()"
     ],
     "language": "python",
     "metadata": {},
     "outputs": [
      {
       "output_type": "pyout",
       "prompt_number": 17,
       "text": [
        "u'trace1'"
       ]
      }
     ],
     "prompt_number": 17
    },
    {
     "cell_type": "code",
     "collapsed": false,
     "input": [
      "m = us_physion_ovation_domain_impl_NumericMeasurement.numericDataFromFile(DataElement.cast_(epoch.getMeasurements().iterator().next()).getData().get())"
     ],
     "language": "python",
     "metadata": {},
     "outputs": [],
     "prompt_number": 18
    },
    {
     "cell_type": "code",
     "collapsed": false,
     "input": [
      "from ovation.conversion import asarray"
     ],
     "language": "python",
     "metadata": {},
     "outputs": [
      {
       "ename": "ImportError",
       "evalue": "No module named scipy",
       "output_type": "pyerr",
       "traceback": [
        "\u001b[0;31m---------------------------------------------------------------------------\u001b[0m\n\u001b[0;31mImportError\u001b[0m                               Traceback (most recent call last)",
        "\u001b[0;32m<ipython-input-21-f94dc67c25df>\u001b[0m in \u001b[0;36m<module>\u001b[0;34m()\u001b[0m\n\u001b[0;32m----> 1\u001b[0;31m \u001b[0;32mfrom\u001b[0m \u001b[0movation\u001b[0m\u001b[0;34m.\u001b[0m\u001b[0mconversion\u001b[0m \u001b[0;32mimport\u001b[0m \u001b[0masarray\u001b[0m\u001b[0;34m\u001b[0m\u001b[0m\n\u001b[0m",
        "\u001b[0;32m/Library/Python/2.7/site-packages/ovation-2.0_SNAPSHOT-py2.7-macosx-10.8-x86_64.egg/ovation/conversion.py\u001b[0m in \u001b[0;36m<module>\u001b[0;34m()\u001b[0m\n\u001b[1;32m      2\u001b[0m \u001b[0;34m\u001b[0m\u001b[0m\n\u001b[1;32m      3\u001b[0m \u001b[0;32mimport\u001b[0m \u001b[0mnumpy\u001b[0m \u001b[0;32mas\u001b[0m \u001b[0mnp\u001b[0m\u001b[0;34m\u001b[0m\u001b[0m\n\u001b[0;32m----> 4\u001b[0;31m \u001b[0;32mimport\u001b[0m \u001b[0mscipy\u001b[0m \u001b[0;32mas\u001b[0m \u001b[0msp\u001b[0m\u001b[0;34m\u001b[0m\u001b[0m\n\u001b[0m\u001b[1;32m      5\u001b[0m \u001b[0;32mimport\u001b[0m \u001b[0mquantities\u001b[0m \u001b[0;32mas\u001b[0m \u001b[0mpq\u001b[0m\u001b[0;34m\u001b[0m\u001b[0m\n\u001b[1;32m      6\u001b[0m \u001b[0;34m\u001b[0m\u001b[0m\n",
        "\u001b[0;31mImportError\u001b[0m: No module named scipy"
       ]
      }
     ],
     "prompt_number": 21
    },
    {
     "cell_type": "code",
     "collapsed": false,
     "input": [],
     "language": "python",
     "metadata": {},
     "outputs": []
    },
    {
     "cell_type": "heading",
     "level": 2,
     "metadata": {},
     "source": [
      "Tagging"
     ]
    },
    {
     "cell_type": "code",
     "collapsed": false,
     "input": [
      "from ovation.wrapper import tag"
     ],
     "language": "python",
     "metadata": {},
     "outputs": []
    },
    {
     "cell_type": "code",
     "collapsed": false,
     "input": [
      "def tag(entity):\n",
      "    return Taggable.cast_(entity)"
     ],
     "language": "python",
     "metadata": {},
     "outputs": [],
     "prompt_number": 45
    },
    {
     "cell_type": "code",
     "collapsed": false,
     "input": [
      "tag(epoch).addTag('From Python!')"
     ],
     "language": "python",
     "metadata": {},
     "outputs": [],
     "prompt_number": 47
    },
    {
     "cell_type": "code",
     "collapsed": false,
     "input": [
      "t = tag(epoch)\n",
      "t.getAllTags()"
     ],
     "language": "python",
     "metadata": {},
     "outputs": [
      {
       "output_type": "pyout",
       "prompt_number": 50,
       "text": [
        "<Iterable: [From Python!]>"
       ]
      }
     ],
     "prompt_number": 50
    },
    {
     "cell_type": "heading",
     "level": 2,
     "metadata": {},
     "source": [
      "Getting data"
     ]
    },
    {
     "cell_type": "code",
     "collapsed": false,
     "input": [
      "m = NumericMeasurement.cast_(set(epoch.getMeasurements()).pop())\n",
      "d = m.getNumericData().getData()"
     ],
     "language": "python",
     "metadata": {},
     "outputs": [
      {
       "ename": "JavaError",
       "evalue": "java.lang.NullPointerException\n    Java stacktrace:\njava.lang.NullPointerException\n\tat com.google.common.base.Preconditions.checkNotNull(Preconditions.java:191)\n\tat com.google.common.base.Splitter.split(Splitter.java:375)\n\tat us.physion.cloud.CloudFileService.getContainer(CloudFileService.java:544)\n\tat us.physion.cloud.CloudFileService.getLocalFile(CloudFileService.java:377)\n\tat us.physion.ovation.domain.impl.Measurement.getData(Measurement.java:281)\n\tat us.physion.ovation.domain.impl.NumericMeasurement.getNumericData(NumericMeasurement.java:59)\n",
       "output_type": "pyerr",
       "traceback": [
        "\u001b[0;31m---------------------------------------------------------------------------\u001b[0m\n\u001b[0;31mJavaError\u001b[0m                                 Traceback (most recent call last)",
        "\u001b[0;32m<ipython-input-44-fdc18625b64d>\u001b[0m in \u001b[0;36m<module>\u001b[0;34m()\u001b[0m\n\u001b[1;32m      1\u001b[0m \u001b[0mm\u001b[0m \u001b[0;34m=\u001b[0m \u001b[0mNumericMeasurement\u001b[0m\u001b[0;34m.\u001b[0m\u001b[0mcast_\u001b[0m\u001b[0;34m(\u001b[0m\u001b[0mset\u001b[0m\u001b[0;34m(\u001b[0m\u001b[0mepoch\u001b[0m\u001b[0;34m.\u001b[0m\u001b[0mgetMeasurements\u001b[0m\u001b[0;34m(\u001b[0m\u001b[0;34m)\u001b[0m\u001b[0;34m)\u001b[0m\u001b[0;34m.\u001b[0m\u001b[0mpop\u001b[0m\u001b[0;34m(\u001b[0m\u001b[0;34m)\u001b[0m\u001b[0;34m)\u001b[0m\u001b[0;34m\u001b[0m\u001b[0m\n\u001b[0;32m----> 2\u001b[0;31m \u001b[0md\u001b[0m \u001b[0;34m=\u001b[0m \u001b[0mm\u001b[0m\u001b[0;34m.\u001b[0m\u001b[0mgetNumericData\u001b[0m\u001b[0;34m(\u001b[0m\u001b[0;34m)\u001b[0m\u001b[0;34m.\u001b[0m\u001b[0mgetData\u001b[0m\u001b[0;34m(\u001b[0m\u001b[0;34m)\u001b[0m\u001b[0;34m\u001b[0m\u001b[0m\n\u001b[0m",
        "\u001b[0;31mJavaError\u001b[0m: java.lang.NullPointerException\n    Java stacktrace:\njava.lang.NullPointerException\n\tat com.google.common.base.Preconditions.checkNotNull(Preconditions.java:191)\n\tat com.google.common.base.Splitter.split(Splitter.java:375)\n\tat us.physion.cloud.CloudFileService.getContainer(CloudFileService.java:544)\n\tat us.physion.cloud.CloudFileService.getLocalFile(CloudFileService.java:377)\n\tat us.physion.ovation.domain.impl.Measurement.getData(Measurement.java:281)\n\tat us.physion.ovation.domain.impl.NumericMeasurement.getNumericData(NumericMeasurement.java:59)\n"
       ]
      }
     ],
     "prompt_number": 44
    },
    {
     "cell_type": "raw",
     "metadata": {},
     "source": [
      "And we can convert the data to a quantities array"
     ]
    },
    {
     "cell_type": "code",
     "collapsed": false,
     "input": [
      "import quantities as pq\n",
      "data_element = d\n",
      "units = pq.Quantity([1], data_element.getUnits())\n",
      "shape = data_element.getShape()\n",
      "sampling_rates = data_element.getSamplingRates()\n",
      "sampling_rate_units = data_element.getSamplingRateUnits()\n",
      "dimension_labels = data_element.getDimensionLabels()\n",
      "\n",
      "arr = np.reshape(np.array(JArray_double.cast_(data_element.getData())) * units, shape)\n",
      "if len(sampling_rate_units) == 1:\n",
      "    arr.sampling_rate = pq.Quantity(sampling_rates, sampling_rate_units[0]) \n",
      "else:\n",
      "    arr.sampling_rates = tuple(pq.Quantity(rate, unit) for (rate,unit) in zip(sampling_rates, sampling_rate_units))\n",
      "\n",
      "arr.labels = dimension_labels\n",
      "arr"
     ],
     "language": "python",
     "metadata": {},
     "outputs": [
      {
       "ename": "NameError",
       "evalue": "name 'd' is not defined",
       "output_type": "pyerr",
       "traceback": [
        "\u001b[0;31m---------------------------------------------------------------------------\u001b[0m\n\u001b[0;31mNameError\u001b[0m                                 Traceback (most recent call last)",
        "\u001b[0;32m<ipython-input-43-8f9bed997dff>\u001b[0m in \u001b[0;36m<module>\u001b[0;34m()\u001b[0m\n\u001b[1;32m      1\u001b[0m \u001b[0;32mimport\u001b[0m \u001b[0mquantities\u001b[0m \u001b[0;32mas\u001b[0m \u001b[0mpq\u001b[0m\u001b[0;34m\u001b[0m\u001b[0m\n\u001b[0;32m----> 2\u001b[0;31m \u001b[0mdata_element\u001b[0m \u001b[0;34m=\u001b[0m \u001b[0md\u001b[0m\u001b[0;34m\u001b[0m\u001b[0m\n\u001b[0m\u001b[1;32m      3\u001b[0m \u001b[0munits\u001b[0m \u001b[0;34m=\u001b[0m \u001b[0mpq\u001b[0m\u001b[0;34m.\u001b[0m\u001b[0mQuantity\u001b[0m\u001b[0;34m(\u001b[0m\u001b[0;34m[\u001b[0m\u001b[0;36m1\u001b[0m\u001b[0;34m]\u001b[0m\u001b[0;34m,\u001b[0m \u001b[0mdata_element\u001b[0m\u001b[0;34m.\u001b[0m\u001b[0mgetUnits\u001b[0m\u001b[0;34m(\u001b[0m\u001b[0;34m)\u001b[0m\u001b[0;34m)\u001b[0m\u001b[0;34m\u001b[0m\u001b[0m\n\u001b[1;32m      4\u001b[0m \u001b[0mshape\u001b[0m \u001b[0;34m=\u001b[0m \u001b[0mdata_element\u001b[0m\u001b[0;34m.\u001b[0m\u001b[0mgetShape\u001b[0m\u001b[0;34m(\u001b[0m\u001b[0;34m)\u001b[0m\u001b[0;34m\u001b[0m\u001b[0m\n\u001b[1;32m      5\u001b[0m \u001b[0msampling_rates\u001b[0m \u001b[0;34m=\u001b[0m \u001b[0mdata_element\u001b[0m\u001b[0;34m.\u001b[0m\u001b[0mgetSamplingRates\u001b[0m\u001b[0;34m(\u001b[0m\u001b[0;34m)\u001b[0m\u001b[0;34m\u001b[0m\u001b[0m\n",
        "\u001b[0;31mNameError\u001b[0m: name 'd' is not defined"
       ]
      }
     ],
     "prompt_number": 43
    },
    {
     "cell_type": "heading",
     "level": 2,
     "metadata": {},
     "source": [
      "Scratch"
     ]
    },
    {
     "cell_type": "code",
     "collapsed": false,
     "input": [
      "l = list(ctx.getProjects())\n",
      "l[-1].getName()\n",
      "p = l[-1]\n",
      "exp = list(p.getExperiments())[0]"
     ],
     "language": "python",
     "metadata": {},
     "outputs": [],
     "prompt_number": 18
    },
    {
     "cell_type": "code",
     "collapsed": false,
     "input": [
      "group = EpochGroupContainer.cast_(exp).insertEpochGroup('Group', DateTime(), None, Maps.newHashMap(), Maps.newHashMap())"
     ],
     "language": "python",
     "metadata": {},
     "outputs": [],
     "prompt_number": 22
    },
    {
     "cell_type": "code",
     "collapsed": false,
     "input": [
      "epoch = group.insertEpoch(DateTime(), DateTime(), ctx.getProtocol('UI protocol'), Maps.newHashMap(), Maps.newHashMap())"
     ],
     "language": "python",
     "metadata": {},
     "outputs": [],
     "prompt_number": 24
    },
    {
     "cell_type": "code",
     "collapsed": false,
     "input": [
      "np.random.randn(10)"
     ],
     "language": "python",
     "metadata": {},
     "outputs": [
      {
       "output_type": "pyout",
       "prompt_number": 25,
       "text": [
        "array([-0.28249111,  0.47424042,  0.16051526, -0.45480013,  2.13033613,\n",
        "        0.1964025 , -0.23568117, -0.23434948, -0.54946711, -0.22585716])"
       ]
      }
     ],
     "prompt_number": 25
    },
    {
     "cell_type": "code",
     "collapsed": false,
     "input": [
      "data = NumericData().addData(\"trace\", JArray_double(np.random.randn(10000)), \"units\", 1000., u'Hz')"
     ],
     "language": "python",
     "metadata": {},
     "outputs": [],
     "prompt_number": 36
    },
    {
     "cell_type": "code",
     "collapsed": false,
     "input": [
      "m = epoch.insertNumericMeasurement(\"trace\", None, None, data)"
     ],
     "language": "python",
     "metadata": {},
     "outputs": [],
     "prompt_number": 37
    },
    {
     "cell_type": "code",
     "collapsed": false,
     "input": [
      "nd = NumericMeasurementUtils.getNumericData(m)"
     ],
     "language": "python",
     "metadata": {},
     "outputs": [],
     "prompt_number": 39
    },
    {
     "cell_type": "code",
     "collapsed": false,
     "input": [
      "m.getUuid()"
     ],
     "language": "python",
     "metadata": {},
     "outputs": [
      {
       "output_type": "pyout",
       "prompt_number": 43,
       "text": [
        "<UUID: 50c7dec9-2f81-4b31-ab5a-f05cc885e0e2>"
       ]
      }
     ],
     "prompt_number": 43
    },
    {
     "cell_type": "code",
     "collapsed": false,
     "input": [
      "m_img = epoch.insertMeasurement(\"anika\", None, None, URL(\"file:///Users/barry/Desktop/IMG_1731.jpg\"), \"image/jpeg\")"
     ],
     "language": "python",
     "metadata": {},
     "outputs": [],
     "prompt_number": 8
    },
    {
     "cell_type": "code",
     "collapsed": false,
     "input": [
      "URL = ovation_api.findClass('java/net/URL')"
     ],
     "language": "python",
     "metadata": {},
     "outputs": [],
     "prompt_number": 53
    },
    {
     "cell_type": "code",
     "collapsed": false,
     "input": [
      "epoch.getUuid()"
     ],
     "language": "python",
     "metadata": {},
     "outputs": [
      {
       "output_type": "pyout",
       "prompt_number": 57,
       "text": [
        "<UUID: f6e69776-8ee0-429e-a2a0-1cea1a0d9225>"
       ]
      }
     ],
     "prompt_number": 57
    },
    {
     "cell_type": "code",
     "collapsed": false,
     "input": [
      "l = list(ctx.getProjects())\n",
      "l[1].getName()"
     ],
     "language": "python",
     "metadata": {},
     "outputs": [
      {
       "output_type": "pyout",
       "prompt_number": 9,
       "text": [
        "u'UI Project'"
       ]
      }
     ],
     "prompt_number": 9
    },
    {
     "cell_type": "code",
     "collapsed": false,
     "input": [
      "epoch = Epoch.cast_(ctx.getObjectWithUuid(UUID.fromString('f6e69776-8ee0-429e-a2a0-1cea1a0d9225')))"
     ],
     "language": "python",
     "metadata": {},
     "outputs": [],
     "prompt_number": 7
    },
    {
     "cell_type": "code",
     "collapsed": false,
     "input": [
      "eg = EpochGroup.cast_(epoch.getParent())\n",
      "EpochGroupContainer.cast_(eg.getExperiment()).getEpochGroups()"
     ],
     "language": "python",
     "metadata": {},
     "outputs": [
      {
       "output_type": "pyout",
       "prompt_number": 32,
       "text": [
        "<Iterable: [us.physion.ovation.domain.impl.EpochGroup@99fa2488, us.physion.ovation.domain.impl.EpochGroup@c60d1ade, us.physion.ovation.domain.impl.EpochGroup@7fece826, us.physion.ovation.domain.impl.EpochGroup@c2b4de10]>"
       ]
      }
     ],
     "prompt_number": 32
    }
   ],
   "metadata": {}
  }
 ]
}