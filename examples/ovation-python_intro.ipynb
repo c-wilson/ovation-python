{
 "metadata": {
  "name": "",
  "signature": "sha256:bc00332a4d48a7fa10a614a0dd16e37a5f9e1890d79f4a2846d3f56cea0aa1bc"
 },
 "nbformat": 3,
 "nbformat_minor": 0,
 "worksheets": [
  {
   "cells": [
    {
     "cell_type": "heading",
     "level": 1,
     "metadata": {},
     "source": [
      "Introduction \u2014\u00a0Ovation Python API"
     ]
    },
    {
     "cell_type": "code",
     "collapsed": false,
     "input": [
      "from ovation.connection import new_data_context\n",
      "from ovation.conversion import to_dict, to_map, to_set, asclass\n",
      "from ovation.core import date_time"
     ],
     "language": "python",
     "metadata": {},
     "outputs": [],
     "prompt_number": 4
    },
    {
     "cell_type": "heading",
     "level": 2,
     "metadata": {},
     "source": [
      "Connection"
     ]
    },
    {
     "cell_type": "markdown",
     "metadata": {},
     "source": [
      "**Check the console for the password prompt\u2026**"
     ]
    },
    {
     "cell_type": "code",
     "collapsed": false,
     "input": [
      "context = new_data_context(raw_input('Email: '))"
     ],
     "language": "python",
     "metadata": {},
     "outputs": [
      {
       "name": "stdout",
       "output_type": "stream",
       "stream": "stdout",
       "text": [
        "Email: barry@physion.us\n"
       ]
      },
      {
       "output_type": "stream",
       "stream": "stdout",
       "text": [
        "Ovation API v2.1.22\n"
       ]
      }
     ],
     "prompt_number": 2
    },
    {
     "cell_type": "heading",
     "level": 2,
     "metadata": {},
     "source": [
      "Data Model"
     ]
    },
    {
     "cell_type": "markdown",
     "metadata": {},
     "source": [
      "In Ovation, your work is organized into *Projects* which contain *Experiments*. Within Experiments, data recorded during the experiment (i.e. files or numeric data in a NumPy array) are stored in *Measurements*. Each Measurement is associated with one or more *Sources*, the 'think that was measured' in the experiment such as a cell, animal or human subject.\n",
      "\n",
      "Measurements are made during *Epochs*, a segment of time. Normally the Ovation UI doesn't show Epochs, but you will make use of them in the API to organize Measurements."
     ]
    },
    {
     "cell_type": "heading",
     "level": 2,
     "metadata": {},
     "source": [
      "Adding new data"
     ]
    },
    {
     "cell_type": "heading",
     "level": 3,
     "metadata": {},
     "source": [
      "Add a Project"
     ]
    },
    {
     "cell_type": "markdown",
     "metadata": {},
     "source": [
      "Scientific projects are organized by Projects in Ovation"
     ]
    },
    {
     "cell_type": "markdown",
     "metadata": {},
     "source": [
      "Ovation's API uses `insertX` to denote methods that add data to the database. Annotations (i.e. data assoicated with a single user) is inserted with `addX` methods."
     ]
    },
    {
     "cell_type": "code",
     "collapsed": false,
     "input": [
      "project_start = date_time(2010, 10, 17)\n",
      "project = context.insertProject(\"Python intro project\", \"Project purpose...\", project_start)"
     ],
     "language": "python",
     "metadata": {},
     "outputs": [],
     "prompt_number": 17
    },
    {
     "cell_type": "markdown",
     "metadata": {},
     "source": [
      "You can retrieve a `Project` (or any other object) from the database by URI"
     ]
    },
    {
     "cell_type": "code",
     "collapsed": false,
     "input": [
      "project_uri = project.getURI().toString()\n",
      "print('Project URI: {}'.format(project_uri))"
     ],
     "language": "python",
     "metadata": {},
     "outputs": [
      {
       "output_type": "stream",
       "stream": "stdout",
       "text": [
        "Project URI: ovation://30702833-aa99-4f60-88d7-60b03947796c/\n"
       ]
      }
     ],
     "prompt_number": 18
    },
    {
     "cell_type": "code",
     "collapsed": false,
     "input": [
      "project = asclass('Project', context.getObjectWithURI(project_uri))"
     ],
     "language": "python",
     "metadata": {},
     "outputs": [],
     "prompt_number": 20
    },
    {
     "cell_type": "heading",
     "level": 3,
     "metadata": {},
     "source": [
      "Add an Experiment to a project"
     ]
    },
    {
     "cell_type": "code",
     "collapsed": false,
     "input": [
      "experiment_start = date_time(2010, 10, 18)\n",
      "experiment = project.insertExperiment('Experiment description', experiment_start)"
     ],
     "language": "python",
     "metadata": {},
     "outputs": [],
     "prompt_number": 19
    },
    {
     "cell_type": "heading",
     "level": 3,
     "metadata": {},
     "source": [
      "Add a `Source` object describing the experimental subject"
     ]
    },
    {
     "cell_type": "markdown",
     "metadata": {},
     "source": [
      "`Sources` refer to physical entities that are measured from during an experiment. Sources have a label (what's shown in the Ovation UI) and an identifier attributes. The identifier should be unique and might refer to the Sources ID in an animal facility, patient number or other identifying value of the Source.\n",
      "\n",
      "Use `getOrInsertSource` to find an existing source with the given `label` and `identifier`. If none exists, a new one is created and returned."
     ]
    },
    {
     "cell_type": "code",
     "collapsed": false,
     "input": [
      "source = context.getOrInsertSource('BL6', 'mouse-id-1').get()"
     ],
     "language": "python",
     "metadata": {},
     "outputs": [],
     "prompt_number": 26
    },
    {
     "cell_type": "markdown",
     "metadata": {},
     "source": [
      "Any object in the Ovation database can be annotated with keyword tags, named values (called \"properties\"), notes and file attachments. Here we use named value properties to add information about this Source."
     ]
    },
    {
     "cell_type": "code",
     "collapsed": false,
     "input": [
      "source.addProperty('sex', 'M')\n",
      "source.addProperty('date of birth', date_time(2010, 10, 1))"
     ],
     "language": "python",
     "metadata": {},
     "outputs": [],
     "prompt_number": 27
    },
    {
     "cell_type": "heading",
     "level": 3,
     "metadata": {},
     "source": [
      "Add an Epoch to store information about the procedure used to make a measurement"
     ]
    },
    {
     "cell_type": "markdown",
     "metadata": {},
     "source": [
      "Within an Experiment, "
     ]
    },
    {
     "cell_type": "heading",
     "level": 2,
     "metadata": {},
     "source": [
      "Reading data"
     ]
    },
    {
     "cell_type": "code",
     "collapsed": false,
     "input": [],
     "language": "python",
     "metadata": {},
     "outputs": []
    },
    {
     "cell_type": "heading",
     "level": 2,
     "metadata": {},
     "source": [
      "Tracking analyses"
     ]
    },
    {
     "cell_type": "code",
     "collapsed": false,
     "input": [],
     "language": "python",
     "metadata": {},
     "outputs": []
    }
   ],
   "metadata": {}
  }
 ]
}