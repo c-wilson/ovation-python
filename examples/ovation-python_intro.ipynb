{
 "metadata": {
  "name": "",
  "signature": "sha256:01f4d937d8c45866ffd902cdbbd2c85037918c5a3b16b9b005ddcfe42e5e9fb1"
 },
 "nbformat": 3,
 "nbformat_minor": 0,
 "worksheets": [
  {
   "cells": [
    {
     "cell_type": "heading",
     "level": 1,
     "metadata": {},
     "source": [
      "Introduction \u2014\u00a0Ovation Python API"
     ]
    },
    {
     "cell_type": "code",
     "collapsed": false,
     "input": [
      "from ovation.connection import new_data_context\n",
      "from ovation.conversion import to_dict, to_map, to_set, asclass\n",
      "from ovation.core import date_time\n",
      "from ovation.data import insert_tabular_measurement, insert_numeric_measurement\n",
      "\n",
      "import pandas as pd"
     ],
     "language": "python",
     "metadata": {},
     "outputs": [],
     "prompt_number": 1
    },
    {
     "cell_type": "heading",
     "level": 2,
     "metadata": {},
     "source": [
      "Connection"
     ]
    },
    {
     "cell_type": "markdown",
     "metadata": {},
     "source": [
      "**Check the console for the password prompt\u2026**"
     ]
    },
    {
     "cell_type": "code",
     "collapsed": false,
     "input": [
      "context = new_data_context(raw_input('Email: '))"
     ],
     "language": "python",
     "metadata": {},
     "outputs": [
      {
       "name": "stdout",
       "output_type": "stream",
       "stream": "stdout",
       "text": [
        "Email: barry@physion.us\n"
       ]
      },
      {
       "output_type": "stream",
       "stream": "stdout",
       "text": [
        "Ovation API v2.1.22\n"
       ]
      }
     ],
     "prompt_number": 2
    },
    {
     "cell_type": "heading",
     "level": 2,
     "metadata": {},
     "source": [
      "Data Model"
     ]
    },
    {
     "cell_type": "markdown",
     "metadata": {},
     "source": [
      "In Ovation, your work is organized into `Projects` which contain `Experiments`. Within Experiments, data recorded during the experiment (i.e. files or numeric data in a NumPy array) are stored in `Measurements`. Each Measurement is associated with one or more *Sources*, the 'think that was measured' in the experiment such as a cell, animal or human subject.\n",
      "\n",
      "Measurements are made during an `Epoch`, a segment of time. Normally the Ovation UI doesn't show Epochs, but you will make use of them in the API to organize your Measurements."
     ]
    },
    {
     "cell_type": "heading",
     "level": 2,
     "metadata": {},
     "source": [
      "Adding new data"
     ]
    },
    {
     "cell_type": "heading",
     "level": 3,
     "metadata": {},
     "source": [
      "Add a Project"
     ]
    },
    {
     "cell_type": "markdown",
     "metadata": {},
     "source": [
      "Scientific projects are organized by Projects in Ovation"
     ]
    },
    {
     "cell_type": "markdown",
     "metadata": {},
     "source": [
      "Ovation's API uses `insertX` to denote methods that add data to the database. Annotations (i.e. data assoicated with a single user) is inserted with `addX` methods."
     ]
    },
    {
     "cell_type": "code",
     "collapsed": false,
     "input": [
      "project_start = date_time(2010, 10, 17)\n",
      "project = context.insertProject(\"Python intro project\", \"Project purpose...\", project_start)"
     ],
     "language": "python",
     "metadata": {},
     "outputs": [],
     "prompt_number": 3
    },
    {
     "cell_type": "markdown",
     "metadata": {},
     "source": [
      "You can retrieve a `Project` (or any other object) from the database by URI"
     ]
    },
    {
     "cell_type": "code",
     "collapsed": false,
     "input": [
      "project_uri = project.getURI().toString()\n",
      "print('Project URI: {}'.format(project_uri))"
     ],
     "language": "python",
     "metadata": {},
     "outputs": [
      {
       "output_type": "stream",
       "stream": "stdout",
       "text": [
        "Project URI: ovation://9ad12844-f33a-43a4-9f4b-3d98ed729f3f/\n"
       ]
      }
     ],
     "prompt_number": 4
    },
    {
     "cell_type": "code",
     "collapsed": false,
     "input": [
      "project = asclass('Project', context.getObjectWithURI('ovation://5e8f9426-b344-4563-ac1f-801065d7d665/'))"
     ],
     "language": "python",
     "metadata": {},
     "outputs": [],
     "prompt_number": 5
    },
    {
     "cell_type": "heading",
     "level": 3,
     "metadata": {},
     "source": [
      "Add an Experiment to a project"
     ]
    },
    {
     "cell_type": "code",
     "collapsed": false,
     "input": [
      "experiment_start = date_time(2010, 10, 18)\n",
      "experiment = project.insertExperiment('Experiment description', experiment_start)"
     ],
     "language": "python",
     "metadata": {},
     "outputs": [],
     "prompt_number": 6
    },
    {
     "cell_type": "heading",
     "level": 3,
     "metadata": {},
     "source": [
      "Add a `Source` object describing the experimental subject"
     ]
    },
    {
     "cell_type": "markdown",
     "metadata": {},
     "source": [
      "`Sources` refer to physical entities that are measured from during an experiment. Sources have a label (what's shown in the Ovation UI) and an identifier. The identifier should be unique and might refer to the Sources ID in an animal facility, patient number or other identifying value of the Source.\n",
      "\n",
      "Use `getOrInsertSource` to find an existing source with the given `label` and `identifier`. If none exists, a new one is created and returned."
     ]
    },
    {
     "cell_type": "code",
     "collapsed": false,
     "input": [
      "source = context.getOrInsertSource('BL6', 'mouse-id-1').get()"
     ],
     "language": "python",
     "metadata": {},
     "outputs": [],
     "prompt_number": 7
    },
    {
     "cell_type": "markdown",
     "metadata": {},
     "source": [
      "Any object in the Ovation database can be annotated with keyword tags, named values (called \"properties\"), notes and file attachments. Here we use named value properties to add information about this Source."
     ]
    },
    {
     "cell_type": "code",
     "collapsed": false,
     "input": [
      "source.addProperty('sex', 'M')\n",
      "source.addProperty('date of birth', date_time(2010, 10, 1))"
     ],
     "language": "python",
     "metadata": {},
     "outputs": [],
     "prompt_number": 8
    },
    {
     "cell_type": "heading",
     "level": 3,
     "metadata": {},
     "source": [
      "Add an Epoch to store information about the procedure used to make a measurement"
     ]
    },
    {
     "cell_type": "heading",
     "level": 3,
     "metadata": {},
     "source": [
      "Protocol"
     ]
    },
    {
     "cell_type": "markdown",
     "metadata": {},
     "source": [
      "An `Epoch` is a *Procedure Element* with a `Protocol`. A Protocol is an entity that describes the steps for performing  a procedure. A Protocol may have *parameters*, variables whose values are set each time the procedure is performed. Experiments are also Procedure Elements. Procedure Elements may also store device parameters, describing the settings of devices used in performing the procedure."
     ]
    },
    {
     "cell_type": "markdown",
     "metadata": {},
     "source": [
      "Since we haven't set the Protocol for the experiment, we'll set one for this Epoch. `context.getOrInsertProtocol` finds an existing protocol with the given name or creates a new one with the provided description document if no Protocol with that name exists yet."
     ]
    },
    {
     "cell_type": "code",
     "collapsed": false,
     "input": [
      "protocol = context.getOrInsertProtocol('Python demo protocol', # Protocol name\n",
      "                                       '...description of protocol...', # Protocol description document if needed\n",
      "                                       ).get()"
     ],
     "language": "python",
     "metadata": {},
     "outputs": [
      {
       "ename": "JavaException",
       "evalue": "JVM exception occured",
       "output_type": "pyerr",
       "traceback": [
        "\u001b[0;31m---------------------------------------------------------------------------\u001b[0m\n\u001b[0;31mJavaException\u001b[0m                             Traceback (most recent call last)",
        "\u001b[0;32m<ipython-input-9-21c996058614>\u001b[0m in \u001b[0;36m<module>\u001b[0;34m()\u001b[0m\n\u001b[1;32m      1\u001b[0m protocol = context.getOrInsertProtocol('Python demo protocol', # Protocol name\n\u001b[0;32m----> 2\u001b[0;31m                                        \u001b[0;34m'...description of protocol...'\u001b[0m\u001b[0;34m,\u001b[0m \u001b[0;31m# Protocol description document if needed\u001b[0m\u001b[0;34m\u001b[0m\u001b[0m\n\u001b[0m\u001b[1;32m      3\u001b[0m                                        ).get()\n",
        "\u001b[0;32m/Users/barry/anaconda/lib/python2.7/site-packages/jnius/jnius.so\u001b[0m in \u001b[0;36mjnius.JavaMethod.__call__ (jnius/jnius.c:18589)\u001b[0;34m()\u001b[0m\n",
        "\u001b[0;32m/Users/barry/anaconda/lib/python2.7/site-packages/jnius/jnius.so\u001b[0m in \u001b[0;36mjnius.JavaMethod.call_method (jnius/jnius.c:19492)\u001b[0;34m()\u001b[0m\n",
        "\u001b[0;32m/Users/barry/anaconda/lib/python2.7/site-packages/jnius/jnius.so\u001b[0m in \u001b[0;36mjnius.check_exception (jnius/jnius.c:3953)\u001b[0;34m()\u001b[0m\n",
        "\u001b[0;31mJavaException\u001b[0m: JVM exception occured"
       ]
      }
     ],
     "prompt_number": 9
    },
    {
     "cell_type": "code",
     "collapsed": false,
     "input": [
      "protocol = None"
     ],
     "language": "python",
     "metadata": {},
     "outputs": [],
     "prompt_number": 9
    },
    {
     "cell_type": "code",
     "collapsed": false,
     "input": [
      "start_time = date_time(2010, 10, 17, 9) # 10-17-2010 at 9am\n",
      "end_time = start_time.plusMinutes(5)\n",
      "\n",
      "parameters = {'solution_conentration_mM' : 5,\n",
      "              'wait_time_s' : 15}\n",
      "\n",
      "device_params = {'gain' : 3}\n",
      "\n",
      "epoch = experiment.insertEpoch(start_time,           # Epoch start\n",
      "                               end_time,             # Epoch end\n",
      "                               protocol,             # Protocol if different from parent (i.e. Experiment) or None\n",
      "                               to_map(parameters),   # Protocol parameters (overrides invidual parameters of parent)\n",
      "                               to_map(device_params) # Device parameters (overrides invidual parameters of parent)\n",
      "                               )"
     ],
     "language": "python",
     "metadata": {},
     "outputs": [],
     "prompt_number": 10
    },
    {
     "cell_type": "markdown",
     "metadata": {},
     "source": [
      "If a procedure's parent (i.e. the Experiment containing `epoch`) has a Protocol set, the child (i.e. `epoch`) \"pulls down\" the protocol information from its parent. Individual protocol and device parameters set on the child override those parameters from the parent."
     ]
    },
    {
     "cell_type": "heading",
     "level": 3,
     "metadata": {},
     "source": [
      "Tabular data"
     ]
    },
    {
     "cell_type": "markdown",
     "metadata": {},
     "source": [
      "Adding tabular measurement data to an Epoch is easy. As for all Measurements, we need to associate the Source(s) of the Measurement's data with the Epoch. Each input Source may be given a name within the scope of the Epoch. If, for example, the protocol refers to measuring the \"mouse\", we can name `source` \"mouse\" within the scope of this Epoch:"
     ]
    },
    {
     "cell_type": "code",
     "collapsed": false,
     "input": [
      "epoch.addInputSource('mouse', source)"
     ],
     "language": "python",
     "metadata": {},
     "outputs": [],
     "prompt_number": 22
    },
    {
     "cell_type": "markdown",
     "metadata": {},
     "source": [
      "The Measurement will then reference the local name of its associated Source(s)."
     ]
    },
    {
     "cell_type": "code",
     "collapsed": false,
     "input": [
      "measurement_sources = ('mouse',)"
     ],
     "language": "python",
     "metadata": {},
     "outputs": [],
     "prompt_number": 27
    },
    {
     "cell_type": "markdown",
     "metadata": {},
     "source": [
      "The measurement may also reference particular devices used. In this case, we'll leave this one blank."
     ]
    },
    {
     "cell_type": "code",
     "collapsed": false,
     "input": [
      "measurement_devices = []"
     ],
     "language": "python",
     "metadata": {},
     "outputs": [],
     "prompt_number": 28
    },
    {
     "cell_type": "code",
     "collapsed": false,
     "input": [
      "df = pd.DataFrame({'ColA' : [1,2,3,4,5],\n",
      "                   'ColB' : [10, 20, 30, 40, 50]})\n",
      "\n",
      "m_tabular = insert_tabular_measurement(epoch,\n",
      "                           to_set(measurement_sources), \n",
      "                           to_set(measurement_devices), \n",
      "                           'tabluar', \n",
      "                           df)"
     ],
     "language": "python",
     "metadata": {},
     "outputs": [],
     "prompt_number": 33
    },
    {
     "cell_type": "heading",
     "level": 3,
     "metadata": {},
     "source": [
      "Numeric data"
     ]
    },
    {
     "cell_type": "heading",
     "level": 2,
     "metadata": {},
     "source": [
      "Reading data"
     ]
    },
    {
     "cell_type": "heading",
     "level": 3,
     "metadata": {},
     "source": [
      "Tabular data"
     ]
    },
    {
     "cell_type": "markdown",
     "metadata": {},
     "source": [
      "Reading tabular data is easy:"
     ]
    },
    {
     "cell_type": "code",
     "collapsed": false,
     "input": [
      "context.getFileService().hasPendingUploads()"
     ],
     "language": "python",
     "metadata": {},
     "outputs": [
      {
       "metadata": {},
       "output_type": "pyout",
       "prompt_number": 39,
       "text": [
        "False"
       ]
      }
     ],
     "prompt_number": 39
    },
    {
     "cell_type": "code",
     "collapsed": false,
     "input": [
      "m_tabular.getLocalDataPath().get()"
     ],
     "language": "python",
     "metadata": {},
     "outputs": [
      {
       "metadata": {},
       "output_type": "pyout",
       "prompt_number": 38,
       "text": [
        "'/Users/barry/Library/Application Support/us.physion.ovation/cache/pending/d4ceca40-83cb-0130-3b75-22000aab13b3/a7f2713f-369b-453d-8e60-90ab7dee8e4e/tabluareAwXDW.cvs'"
       ]
      }
     ],
     "prompt_number": 38
    },
    {
     "cell_type": "code",
     "collapsed": false,
     "input": [
      "m_tabular = asclass('Measurement', m_tabular.refresh()) # Refresh m_tabular to update cloud URL for data\n",
      "df = pd.read_csv(m_tabular.getLocalDataPath().get())a\n",
      "df.head()"
     ],
     "language": "python",
     "metadata": {},
     "outputs": [
      {
       "ename": "IOError",
       "evalue": "File /Users/barry/Library/Application Support/us.physion.ovation/cache/pending/d4ceca40-83cb-0130-3b75-22000aab13b3/a7f2713f-369b-453d-8e60-90ab7dee8e4e/tabluareAwXDW.cvs does not exist",
       "output_type": "pyerr",
       "traceback": [
        "\u001b[0;31m---------------------------------------------------------------------------\u001b[0m\n\u001b[0;31mIOError\u001b[0m                                   Traceback (most recent call last)",
        "\u001b[0;32m<ipython-input-37-3a1b1d345844>\u001b[0m in \u001b[0;36m<module>\u001b[0;34m()\u001b[0m\n\u001b[1;32m      1\u001b[0m \u001b[0mm_tabular\u001b[0m \u001b[0;34m=\u001b[0m \u001b[0masclass\u001b[0m\u001b[0;34m(\u001b[0m\u001b[0;34m'Measurement'\u001b[0m\u001b[0;34m,\u001b[0m \u001b[0mm_tabular\u001b[0m\u001b[0;34m.\u001b[0m\u001b[0mrefresh\u001b[0m\u001b[0;34m(\u001b[0m\u001b[0;34m)\u001b[0m\u001b[0;34m)\u001b[0m \u001b[0;31m# Refresh m_tabular to update cloud URL for data\u001b[0m\u001b[0;34m\u001b[0m\u001b[0m\n\u001b[0;32m----> 2\u001b[0;31m \u001b[0mdf\u001b[0m \u001b[0;34m=\u001b[0m \u001b[0mpd\u001b[0m\u001b[0;34m.\u001b[0m\u001b[0mread_csv\u001b[0m\u001b[0;34m(\u001b[0m\u001b[0mm_tabular\u001b[0m\u001b[0;34m.\u001b[0m\u001b[0mgetLocalDataPath\u001b[0m\u001b[0;34m(\u001b[0m\u001b[0;34m)\u001b[0m\u001b[0;34m.\u001b[0m\u001b[0mget\u001b[0m\u001b[0;34m(\u001b[0m\u001b[0;34m)\u001b[0m\u001b[0;34m,\u001b[0m \u001b[0mindex_col\u001b[0m\u001b[0;34m=\u001b[0m\u001b[0;34m'ColA'\u001b[0m\u001b[0;34m)\u001b[0m\u001b[0;34m\u001b[0m\u001b[0m\n\u001b[0m\u001b[1;32m      3\u001b[0m \u001b[0mdf\u001b[0m\u001b[0;34m.\u001b[0m\u001b[0mhead\u001b[0m\u001b[0;34m(\u001b[0m\u001b[0;34m)\u001b[0m\u001b[0;34m\u001b[0m\u001b[0m\n",
        "\u001b[0;32m/Users/barry/anaconda/lib/python2.7/site-packages/pandas/io/parsers.pyc\u001b[0m in \u001b[0;36mparser_f\u001b[0;34m(filepath_or_buffer, sep, dialect, compression, doublequote, escapechar, quotechar, quoting, skipinitialspace, lineterminator, header, index_col, names, prefix, skiprows, skipfooter, skip_footer, na_values, na_fvalues, true_values, false_values, delimiter, converters, dtype, usecols, engine, delim_whitespace, as_recarray, na_filter, compact_ints, use_unsigned, low_memory, buffer_lines, warn_bad_lines, error_bad_lines, keep_default_na, thousands, comment, decimal, parse_dates, keep_date_col, dayfirst, date_parser, memory_map, nrows, iterator, chunksize, verbose, encoding, squeeze, mangle_dupe_cols, tupleize_cols, infer_datetime_format)\u001b[0m\n\u001b[1;32m    418\u001b[0m                     infer_datetime_format=infer_datetime_format)\n\u001b[1;32m    419\u001b[0m \u001b[0;34m\u001b[0m\u001b[0m\n\u001b[0;32m--> 420\u001b[0;31m         \u001b[0;32mreturn\u001b[0m \u001b[0m_read\u001b[0m\u001b[0;34m(\u001b[0m\u001b[0mfilepath_or_buffer\u001b[0m\u001b[0;34m,\u001b[0m \u001b[0mkwds\u001b[0m\u001b[0;34m)\u001b[0m\u001b[0;34m\u001b[0m\u001b[0m\n\u001b[0m\u001b[1;32m    421\u001b[0m \u001b[0;34m\u001b[0m\u001b[0m\n\u001b[1;32m    422\u001b[0m     \u001b[0mparser_f\u001b[0m\u001b[0;34m.\u001b[0m\u001b[0m__name__\u001b[0m \u001b[0;34m=\u001b[0m \u001b[0mname\u001b[0m\u001b[0;34m\u001b[0m\u001b[0m\n",
        "\u001b[0;32m/Users/barry/anaconda/lib/python2.7/site-packages/pandas/io/parsers.pyc\u001b[0m in \u001b[0;36m_read\u001b[0;34m(filepath_or_buffer, kwds)\u001b[0m\n\u001b[1;32m    216\u001b[0m \u001b[0;34m\u001b[0m\u001b[0m\n\u001b[1;32m    217\u001b[0m     \u001b[0;31m# Create the parser.\u001b[0m\u001b[0;34m\u001b[0m\u001b[0;34m\u001b[0m\u001b[0m\n\u001b[0;32m--> 218\u001b[0;31m     \u001b[0mparser\u001b[0m \u001b[0;34m=\u001b[0m \u001b[0mTextFileReader\u001b[0m\u001b[0;34m(\u001b[0m\u001b[0mfilepath_or_buffer\u001b[0m\u001b[0;34m,\u001b[0m \u001b[0;34m**\u001b[0m\u001b[0mkwds\u001b[0m\u001b[0;34m)\u001b[0m\u001b[0;34m\u001b[0m\u001b[0m\n\u001b[0m\u001b[1;32m    219\u001b[0m \u001b[0;34m\u001b[0m\u001b[0m\n\u001b[1;32m    220\u001b[0m     \u001b[0;32mif\u001b[0m \u001b[0mnrows\u001b[0m \u001b[0;32mis\u001b[0m \u001b[0;32mnot\u001b[0m \u001b[0mNone\u001b[0m\u001b[0;34m:\u001b[0m\u001b[0;34m\u001b[0m\u001b[0m\n",
        "\u001b[0;32m/Users/barry/anaconda/lib/python2.7/site-packages/pandas/io/parsers.pyc\u001b[0m in \u001b[0;36m__init__\u001b[0;34m(self, f, engine, **kwds)\u001b[0m\n\u001b[1;32m    500\u001b[0m             \u001b[0mself\u001b[0m\u001b[0;34m.\u001b[0m\u001b[0moptions\u001b[0m\u001b[0;34m[\u001b[0m\u001b[0;34m'has_index_names'\u001b[0m\u001b[0;34m]\u001b[0m \u001b[0;34m=\u001b[0m \u001b[0mkwds\u001b[0m\u001b[0;34m[\u001b[0m\u001b[0;34m'has_index_names'\u001b[0m\u001b[0;34m]\u001b[0m\u001b[0;34m\u001b[0m\u001b[0m\n\u001b[1;32m    501\u001b[0m \u001b[0;34m\u001b[0m\u001b[0m\n\u001b[0;32m--> 502\u001b[0;31m         \u001b[0mself\u001b[0m\u001b[0;34m.\u001b[0m\u001b[0m_make_engine\u001b[0m\u001b[0;34m(\u001b[0m\u001b[0mself\u001b[0m\u001b[0;34m.\u001b[0m\u001b[0mengine\u001b[0m\u001b[0;34m)\u001b[0m\u001b[0;34m\u001b[0m\u001b[0m\n\u001b[0m\u001b[1;32m    503\u001b[0m \u001b[0;34m\u001b[0m\u001b[0m\n\u001b[1;32m    504\u001b[0m     \u001b[0;32mdef\u001b[0m \u001b[0m_get_options_with_defaults\u001b[0m\u001b[0;34m(\u001b[0m\u001b[0mself\u001b[0m\u001b[0;34m,\u001b[0m \u001b[0mengine\u001b[0m\u001b[0;34m)\u001b[0m\u001b[0;34m:\u001b[0m\u001b[0;34m\u001b[0m\u001b[0m\n",
        "\u001b[0;32m/Users/barry/anaconda/lib/python2.7/site-packages/pandas/io/parsers.pyc\u001b[0m in \u001b[0;36m_make_engine\u001b[0;34m(self, engine)\u001b[0m\n\u001b[1;32m    608\u001b[0m     \u001b[0;32mdef\u001b[0m \u001b[0m_make_engine\u001b[0m\u001b[0;34m(\u001b[0m\u001b[0mself\u001b[0m\u001b[0;34m,\u001b[0m \u001b[0mengine\u001b[0m\u001b[0;34m=\u001b[0m\u001b[0;34m'c'\u001b[0m\u001b[0;34m)\u001b[0m\u001b[0;34m:\u001b[0m\u001b[0;34m\u001b[0m\u001b[0m\n\u001b[1;32m    609\u001b[0m         \u001b[0;32mif\u001b[0m \u001b[0mengine\u001b[0m \u001b[0;34m==\u001b[0m \u001b[0;34m'c'\u001b[0m\u001b[0;34m:\u001b[0m\u001b[0;34m\u001b[0m\u001b[0m\n\u001b[0;32m--> 610\u001b[0;31m             \u001b[0mself\u001b[0m\u001b[0;34m.\u001b[0m\u001b[0m_engine\u001b[0m \u001b[0;34m=\u001b[0m \u001b[0mCParserWrapper\u001b[0m\u001b[0;34m(\u001b[0m\u001b[0mself\u001b[0m\u001b[0;34m.\u001b[0m\u001b[0mf\u001b[0m\u001b[0;34m,\u001b[0m \u001b[0;34m**\u001b[0m\u001b[0mself\u001b[0m\u001b[0;34m.\u001b[0m\u001b[0moptions\u001b[0m\u001b[0;34m)\u001b[0m\u001b[0;34m\u001b[0m\u001b[0m\n\u001b[0m\u001b[1;32m    611\u001b[0m         \u001b[0;32melse\u001b[0m\u001b[0;34m:\u001b[0m\u001b[0;34m\u001b[0m\u001b[0m\n\u001b[1;32m    612\u001b[0m             \u001b[0;32mif\u001b[0m \u001b[0mengine\u001b[0m \u001b[0;34m==\u001b[0m \u001b[0;34m'python'\u001b[0m\u001b[0;34m:\u001b[0m\u001b[0;34m\u001b[0m\u001b[0m\n",
        "\u001b[0;32m/Users/barry/anaconda/lib/python2.7/site-packages/pandas/io/parsers.pyc\u001b[0m in \u001b[0;36m__init__\u001b[0;34m(self, src, **kwds)\u001b[0m\n\u001b[1;32m    970\u001b[0m         \u001b[0mkwds\u001b[0m\u001b[0;34m[\u001b[0m\u001b[0;34m'allow_leading_cols'\u001b[0m\u001b[0;34m]\u001b[0m \u001b[0;34m=\u001b[0m \u001b[0mself\u001b[0m\u001b[0;34m.\u001b[0m\u001b[0mindex_col\u001b[0m \u001b[0;32mis\u001b[0m \u001b[0;32mnot\u001b[0m \u001b[0mFalse\u001b[0m\u001b[0;34m\u001b[0m\u001b[0m\n\u001b[1;32m    971\u001b[0m \u001b[0;34m\u001b[0m\u001b[0m\n\u001b[0;32m--> 972\u001b[0;31m         \u001b[0mself\u001b[0m\u001b[0;34m.\u001b[0m\u001b[0m_reader\u001b[0m \u001b[0;34m=\u001b[0m \u001b[0m_parser\u001b[0m\u001b[0;34m.\u001b[0m\u001b[0mTextReader\u001b[0m\u001b[0;34m(\u001b[0m\u001b[0msrc\u001b[0m\u001b[0;34m,\u001b[0m \u001b[0;34m**\u001b[0m\u001b[0mkwds\u001b[0m\u001b[0;34m)\u001b[0m\u001b[0;34m\u001b[0m\u001b[0m\n\u001b[0m\u001b[1;32m    973\u001b[0m \u001b[0;34m\u001b[0m\u001b[0m\n\u001b[1;32m    974\u001b[0m         \u001b[0;31m# XXX\u001b[0m\u001b[0;34m\u001b[0m\u001b[0;34m\u001b[0m\u001b[0m\n",
        "\u001b[0;32m/Users/barry/anaconda/lib/python2.7/site-packages/pandas/parser.so\u001b[0m in \u001b[0;36mpandas.parser.TextReader.__cinit__ (pandas/parser.c:3200)\u001b[0;34m()\u001b[0m\n",
        "\u001b[0;32m/Users/barry/anaconda/lib/python2.7/site-packages/pandas/parser.so\u001b[0m in \u001b[0;36mpandas.parser.TextReader._setup_parser_source (pandas/parser.c:5559)\u001b[0;34m()\u001b[0m\n",
        "\u001b[0;31mIOError\u001b[0m: File /Users/barry/Library/Application Support/us.physion.ovation/cache/pending/d4ceca40-83cb-0130-3b75-22000aab13b3/a7f2713f-369b-453d-8e60-90ab7dee8e4e/tabluareAwXDW.cvs does not exist"
       ]
      }
     ],
     "prompt_number": 37
    },
    {
     "cell_type": "heading",
     "level": 3,
     "metadata": {},
     "source": [
      "Numeric data"
     ]
    },
    {
     "cell_type": "markdown",
     "metadata": {},
     "source": [
      "Reading numeric data is also easy:"
     ]
    },
    {
     "cell_type": "markdown",
     "metadata": {},
     "source": [
      "We can get the Sources measured by a Measurement through the containing Epoch's `inputSources`. "
     ]
    },
    {
     "cell_type": "code",
     "collapsed": false,
     "input": [
      "for source_name in m.getSourceNames():\n",
      "    source = to_dict(m.getEpoch().getInputSources())[source_name]\n",
      "    print('{} | {} ({})'.format(source.getLabel(), source.getIdentifier(), source.getURI().toString()))"
     ],
     "language": "python",
     "metadata": {},
     "outputs": []
    },
    {
     "cell_type": "heading",
     "level": 2,
     "metadata": {},
     "source": [
      "Tracking analyses"
     ]
    },
    {
     "cell_type": "code",
     "collapsed": false,
     "input": [],
     "language": "python",
     "metadata": {},
     "outputs": []
    }
   ],
   "metadata": {}
  }
 ]
}