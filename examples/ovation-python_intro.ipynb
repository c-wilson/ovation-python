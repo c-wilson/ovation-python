{
 "metadata": {
  "name": "",
  "signature": "sha256:1182b848bfa152aef0d6f024959f95189d71ed5a39c6d74600afa3c4d6bd9c07"
 },
 "nbformat": 3,
 "nbformat_minor": 0,
 "worksheets": [
  {
   "cells": [
    {
     "cell_type": "heading",
     "level": 1,
     "metadata": {},
     "source": [
      "Introduction \u2014\u00a0Ovation Python API"
     ]
    },
    {
     "cell_type": "code",
     "collapsed": false,
     "input": [
      "from ovation.connection import new_data_context\n",
      "from ovation.conversion import to_dict, to_map, to_set, asclass\n",
      "from ovation.core import date_time, NumericDataElements\n",
      "from ovation.data import insert_tabular_measurement, insert_numeric_measurement, as_data_frame, as_numeric_data_frame\n",
      "\n",
      "import pandas as pd\n",
      "import numpy as np\n",
      "import quantities as pq\n",
      "import matplotlib.pyplot as plt"
     ],
     "language": "python",
     "metadata": {},
     "outputs": [],
     "prompt_number": 45
    },
    {
     "cell_type": "heading",
     "level": 2,
     "metadata": {},
     "source": [
      "Connection"
     ]
    },
    {
     "cell_type": "markdown",
     "metadata": {},
     "source": [
      "**Check the console for the password prompt\u2026**"
     ]
    },
    {
     "cell_type": "code",
     "collapsed": false,
     "input": [
      "context = new_data_context(raw_input('Email: '))"
     ],
     "language": "python",
     "metadata": {},
     "outputs": [
      {
       "name": "stdout",
       "output_type": "stream",
       "stream": "stdout",
       "text": [
        "Email: barry@physion.us\n"
       ]
      },
      {
       "output_type": "stream",
       "stream": "stdout",
       "text": [
        "Ovation API v2.1.22\n"
       ]
      }
     ],
     "prompt_number": 2
    },
    {
     "cell_type": "heading",
     "level": 2,
     "metadata": {},
     "source": [
      "Data Model"
     ]
    },
    {
     "cell_type": "markdown",
     "metadata": {},
     "source": [
      "In Ovation, your work is organized into `Projects` which contain `Experiments`. Within Experiments, data recorded during the experiment (i.e. files or numeric data in a NumPy array) are stored in `Measurements`. Each Measurement is associated with one or more *Sources*, the 'think that was measured' in the experiment such as a cell, animal or human subject.\n",
      "\n",
      "Measurements are made during an `Epoch`, a segment of time. Normally the Ovation UI doesn't show Epochs, but you will make use of them in the API to organize your Measurements."
     ]
    },
    {
     "cell_type": "heading",
     "level": 2,
     "metadata": {},
     "source": [
      "Adding new data"
     ]
    },
    {
     "cell_type": "heading",
     "level": 3,
     "metadata": {},
     "source": [
      "Add a Project"
     ]
    },
    {
     "cell_type": "markdown",
     "metadata": {},
     "source": [
      "Scientific projects are organized by Projects in Ovation"
     ]
    },
    {
     "cell_type": "markdown",
     "metadata": {},
     "source": [
      "Ovation's API uses `insertX` to denote methods that add data to the database. Annotations (i.e. data assoicated with a single user) is inserted with `addX` methods."
     ]
    },
    {
     "cell_type": "code",
     "collapsed": false,
     "input": [
      "project_start = date_time(2010, 10, 17)\n",
      "project = context.insertProject(\"Python intro project\", \"Project purpose...\", project_start)"
     ],
     "language": "python",
     "metadata": {},
     "outputs": [],
     "prompt_number": 3
    },
    {
     "cell_type": "markdown",
     "metadata": {},
     "source": [
      "You can retrieve a `Project` (or any other object) from the database by URI"
     ]
    },
    {
     "cell_type": "code",
     "collapsed": false,
     "input": [
      "project_uri = project.getURI().toString()\n",
      "print('Project URI: {}'.format(project_uri))"
     ],
     "language": "python",
     "metadata": {},
     "outputs": [
      {
       "output_type": "stream",
       "stream": "stdout",
       "text": [
        "Project URI: ovation://99e6a6f0-3715-47f4-b822-946edb5e6899/\n"
       ]
      }
     ],
     "prompt_number": 4
    },
    {
     "cell_type": "code",
     "collapsed": false,
     "input": [
      "project = asclass('Project', context.getObjectWithURI('ovation://5e8f9426-b344-4563-ac1f-801065d7d665/'))"
     ],
     "language": "python",
     "metadata": {},
     "outputs": [],
     "prompt_number": 5
    },
    {
     "cell_type": "heading",
     "level": 3,
     "metadata": {},
     "source": [
      "Add an Experiment to a project"
     ]
    },
    {
     "cell_type": "code",
     "collapsed": false,
     "input": [
      "experiment_start = date_time(2010, 10, 18)\n",
      "experiment = project.insertExperiment('Experiment description', experiment_start)"
     ],
     "language": "python",
     "metadata": {},
     "outputs": [],
     "prompt_number": 5
    },
    {
     "cell_type": "heading",
     "level": 3,
     "metadata": {},
     "source": [
      "Add a `Source` object describing the experimental subject"
     ]
    },
    {
     "cell_type": "markdown",
     "metadata": {},
     "source": [
      "`Sources` refer to physical entities that are measured from during an experiment. Sources have a label (what's shown in the Ovation UI) and an identifier. The identifier should be unique and might refer to the Sources ID in an animal facility, patient number or other identifying value of the Source.\n",
      "\n",
      "Use `getOrInsertSource` to find an existing source with the given `label` and `identifier`. If none exists, a new one is created and returned."
     ]
    },
    {
     "cell_type": "code",
     "collapsed": false,
     "input": [
      "source = context.getOrInsertSource('BL6', 'mouse-id-1').get()"
     ],
     "language": "python",
     "metadata": {},
     "outputs": [],
     "prompt_number": 6
    },
    {
     "cell_type": "markdown",
     "metadata": {},
     "source": [
      "Any object in the Ovation database can be annotated with keyword tags, named values (called \"properties\"), notes and file attachments. Here we use named value properties to add information about this Source."
     ]
    },
    {
     "cell_type": "code",
     "collapsed": false,
     "input": [
      "source.addProperty('sex', 'M')\n",
      "source.addProperty('date of birth', date_time(2010, 10, 1))"
     ],
     "language": "python",
     "metadata": {},
     "outputs": [],
     "prompt_number": 7
    },
    {
     "cell_type": "heading",
     "level": 3,
     "metadata": {},
     "source": [
      "Add an Epoch to store information about the procedure used to make a measurement"
     ]
    },
    {
     "cell_type": "heading",
     "level": 3,
     "metadata": {},
     "source": [
      "Protocol"
     ]
    },
    {
     "cell_type": "markdown",
     "metadata": {},
     "source": [
      "An `Epoch` is a *Procedure Element* with a `Protocol`. A Protocol is an entity that describes the steps for performing  a procedure. A Protocol may have *parameters*, variables whose values are set each time the procedure is performed. Experiments are also Procedure Elements. Procedure Elements may also store device parameters, describing the settings of devices used in performing the procedure."
     ]
    },
    {
     "cell_type": "markdown",
     "metadata": {},
     "source": [
      "Since we haven't set the Protocol for the experiment, we'll set one for this Epoch. `context.getOrInsertProtocol` finds an existing protocol with the given name or creates a new one with the provided description document if no Protocol with that name exists yet."
     ]
    },
    {
     "cell_type": "code",
     "collapsed": false,
     "input": [
      "protocol = context.getOrInsertProtocol('Python demo protocol', # Protocol name\n",
      "                                       '...description of protocol...', # Protocol description document if needed\n",
      "                                       ).get()"
     ],
     "language": "python",
     "metadata": {},
     "outputs": [
      {
       "ename": "JavaException",
       "evalue": "JVM exception occured",
       "output_type": "pyerr",
       "traceback": [
        "\u001b[0;31m---------------------------------------------------------------------------\u001b[0m\n\u001b[0;31mJavaException\u001b[0m                             Traceback (most recent call last)",
        "\u001b[0;32m<ipython-input-8-21c996058614>\u001b[0m in \u001b[0;36m<module>\u001b[0;34m()\u001b[0m\n\u001b[1;32m      1\u001b[0m protocol = context.getOrInsertProtocol('Python demo protocol', # Protocol name\n\u001b[0;32m----> 2\u001b[0;31m                                        \u001b[0;34m'...description of protocol...'\u001b[0m\u001b[0;34m,\u001b[0m \u001b[0;31m# Protocol description document if needed\u001b[0m\u001b[0;34m\u001b[0m\u001b[0m\n\u001b[0m\u001b[1;32m      3\u001b[0m                                        ).get()\n",
        "\u001b[0;32m/Users/barry/anaconda/lib/python2.7/site-packages/jnius/jnius.so\u001b[0m in \u001b[0;36mjnius.JavaMethod.__call__ (jnius/jnius.c:18589)\u001b[0;34m()\u001b[0m\n",
        "\u001b[0;32m/Users/barry/anaconda/lib/python2.7/site-packages/jnius/jnius.so\u001b[0m in \u001b[0;36mjnius.JavaMethod.call_method (jnius/jnius.c:19492)\u001b[0;34m()\u001b[0m\n",
        "\u001b[0;32m/Users/barry/anaconda/lib/python2.7/site-packages/jnius/jnius.so\u001b[0m in \u001b[0;36mjnius.check_exception (jnius/jnius.c:3953)\u001b[0;34m()\u001b[0m\n",
        "\u001b[0;31mJavaException\u001b[0m: JVM exception occured"
       ]
      }
     ],
     "prompt_number": 8
    },
    {
     "cell_type": "code",
     "collapsed": false,
     "input": [
      "protocol = None"
     ],
     "language": "python",
     "metadata": {},
     "outputs": [],
     "prompt_number": 9
    },
    {
     "cell_type": "code",
     "collapsed": false,
     "input": [
      "start_time = date_time(2010, 10, 17, 9) # 10-17-2010 at 9am\n",
      "end_time = start_time.plusMinutes(5)\n",
      "\n",
      "parameters = {'solution_conentration_mM' : 5,\n",
      "              'wait_time_s' : 15}\n",
      "\n",
      "device_params = {'gain' : 3}\n",
      "\n",
      "epoch = experiment.insertEpoch(start_time,           # Epoch start\n",
      "                               end_time,             # Epoch end\n",
      "                               protocol,             # Protocol if different from parent (i.e. Experiment) or None\n",
      "                               to_map(parameters),   # Protocol parameters (overrides invidual parameters of parent)\n",
      "                               to_map(device_params) # Device parameters (overrides invidual parameters of parent)\n",
      "                               )"
     ],
     "language": "python",
     "metadata": {},
     "outputs": [],
     "prompt_number": 71
    },
    {
     "cell_type": "markdown",
     "metadata": {},
     "source": [
      "If a procedure's parent (i.e. the Experiment containing `epoch`) has a Protocol set, the child (i.e. `epoch`) \"pulls down\" the protocol information from its parent. Individual protocol and device parameters set on the child override those parameters from the parent."
     ]
    },
    {
     "cell_type": "heading",
     "level": 3,
     "metadata": {},
     "source": [
      "Tabular data"
     ]
    },
    {
     "cell_type": "markdown",
     "metadata": {},
     "source": [
      "Adding tabular measurement data to an Epoch is easy. Ovation's Python API has support for Pandas DataFrames built-in. As for all Measurements, we need to associate the Source(s) of the Measurement's data with the Epoch. Each input Source may be given a name within the scope of the Epoch. If, for example, the protocol refers to measuring the \"mouse\", we can name `source` \"mouse\" within the scope of this Epoch:"
     ]
    },
    {
     "cell_type": "code",
     "collapsed": false,
     "input": [
      "epoch.addInputSource('mouse', source)"
     ],
     "language": "python",
     "metadata": {},
     "outputs": [],
     "prompt_number": 72
    },
    {
     "cell_type": "markdown",
     "metadata": {},
     "source": [
      "The Measurement will then reference the local name of its associated Source(s)."
     ]
    },
    {
     "cell_type": "code",
     "collapsed": false,
     "input": [
      "measurement_sources = ('mouse',)"
     ],
     "language": "python",
     "metadata": {},
     "outputs": [],
     "prompt_number": 73
    },
    {
     "cell_type": "markdown",
     "metadata": {},
     "source": [
      "The measurement may also reference particular devices used. In this case, we'll leave this one blank."
     ]
    },
    {
     "cell_type": "code",
     "collapsed": false,
     "input": [
      "measurement_devices = []"
     ],
     "language": "python",
     "metadata": {},
     "outputs": [],
     "prompt_number": 74
    },
    {
     "cell_type": "code",
     "collapsed": false,
     "input": [
      "df = pd.DataFrame({'ColA' : [1,2,3,4,5],\n",
      "                   'ColB' : [10, 20, 30, 40, 50]})\n",
      "\n",
      "insert_tabular_measurement(epoch,\n",
      "                           to_set(measurement_sources), \n",
      "                           to_set(measurement_devices), \n",
      "                           'tabular', \n",
      "                           df)"
     ],
     "language": "python",
     "metadata": {},
     "outputs": [
      {
       "metadata": {},
       "output_type": "pyout",
       "prompt_number": 75,
       "text": [
        "<us.physion.ovation.domain.Measurement at 0x12ae37290 jclass=us/physion/ovation/domain/Measurement jself=<LocalRef obj=0x1058bf698 at 0x125ca9070>>"
       ]
      }
     ],
     "prompt_number": 75
    },
    {
     "cell_type": "heading",
     "level": 3,
     "metadata": {},
     "source": [
      "Numeric data"
     ]
    },
    {
     "cell_type": "markdown",
     "metadata": {},
     "source": [
      "Ovation's Python API has support for adding numeric data from NumPy arrays. Ovation uses the `quantities` package for units."
     ]
    },
    {
     "cell_type": "code",
     "collapsed": false,
     "input": [
      "data = np.random.randn(10) * pq.mV\n",
      "data.sampling_rates = [100 * pq.Hz] # Each dimension must have a sampling rate\n",
      "data.labels = ['time series'] # Each dimension must have a label"
     ],
     "language": "python",
     "metadata": {},
     "outputs": [],
     "prompt_number": 76
    },
    {
     "cell_type": "code",
     "collapsed": false,
     "input": [
      "plt.plot(np.asarray(data))"
     ],
     "language": "python",
     "metadata": {},
     "outputs": [
      {
       "metadata": {},
       "output_type": "pyout",
       "prompt_number": 77,
       "text": [
        "[<matplotlib.lines.Line2D at 0x122cbc290>]"
       ]
      },
      {
       "metadata": {},
       "output_type": "display_data",
       "png": "[encoded data removed]",
       "text": [
        "<matplotlib.figure.Figure at 0x126f116d0>"
       ]
      }
     ],
     "prompt_number": 77
    },
    {
     "cell_type": "code",
     "collapsed": false,
     "input": [
      "df = {'data' : data} # Multiple data series can be added as a single measurement using a dict or DataFrame\n",
      "\n",
      "insert_numeric_measurement(epoch,\n",
      "                           to_set(measurement_sources),\n",
      "                           to_set(measurement_devices),\n",
      "                           'numeric',\n",
      "                           df)"
     ],
     "language": "python",
     "metadata": {},
     "outputs": [
      {
       "metadata": {},
       "output_type": "pyout",
       "prompt_number": 78,
       "text": [
        "<us.physion.ovation.domain.Measurement at 0x12acd6d10 jclass=us/physion/ovation/domain/Measurement jself=<LocalRef obj=0x104c65168 at 0x125ca92b0>>"
       ]
      }
     ],
     "prompt_number": 78
    },
    {
     "cell_type": "heading",
     "level": 2,
     "metadata": {},
     "source": [
      "Reading data"
     ]
    },
    {
     "cell_type": "markdown",
     "metadata": {},
     "source": [
      "From an Epoch, we can get Measurements by name"
     ]
    },
    {
     "cell_type": "code",
     "collapsed": false,
     "input": [
      "context.getRepository().clear()\n",
      "m_tabular = epoch.getMeasurement('tabular')\n",
      "m_numeric = epoch.getMeasurement('numeric')"
     ],
     "language": "python",
     "metadata": {},
     "outputs": [],
     "prompt_number": 87
    },
    {
     "cell_type": "heading",
     "level": 3,
     "metadata": {},
     "source": [
      "Tabular data"
     ]
    },
    {
     "cell_type": "markdown",
     "metadata": {},
     "source": [
      "Reading tabular data is easy:"
     ]
    },
    {
     "cell_type": "code",
     "collapsed": false,
     "input": [
      "df = as_data_frame(m_tabular, index_col=0)\n",
      "df.head()"
     ],
     "language": "python",
     "metadata": {},
     "outputs": [
      {
       "ename": "TypeError",
       "evalue": "as_data_frame() got an unexpected keyword argument 'index_col'",
       "output_type": "pyerr",
       "traceback": [
        "\u001b[0;31m---------------------------------------------------------------------------\u001b[0m\n\u001b[0;31mTypeError\u001b[0m                                 Traceback (most recent call last)",
        "\u001b[0;32m<ipython-input-111-7502e5374bcf>\u001b[0m in \u001b[0;36m<module>\u001b[0;34m()\u001b[0m\n",
        "\u001b[0;31mTypeError\u001b[0m: as_data_frame() got an unexpected keyword argument 'index_col'"
       ]
      }
     ],
     "prompt_number": 111
    },
    {
     "cell_type": "heading",
     "level": 3,
     "metadata": {},
     "source": [
      "Numeric data"
     ]
    },
    {
     "cell_type": "markdown",
     "metadata": {},
     "source": [
      "Reading numeric data is also easy:"
     ]
    },
    {
     "cell_type": "code",
     "collapsed": false,
     "input": [
      "df = as_numeric_data_frame(m_numeric)\n",
      "plt.plot(np.asarray(df['data']))"
     ],
     "language": "python",
     "metadata": {},
     "outputs": [
      {
       "output_type": "stream",
       "stream": "stderr",
       "text": [
        "Exception Exception: Exception('Invalid \"[\" character in definition \"Ljava/lang/String;[[D[Ljava/lang/String;Ljava/lang/String;[D[Ljava/lang/String;)Lus/physion/ovation/values/NumericData;\"',) in 'jnius.JavaMultipleMethod.set_resolve_info' ignored\n"
       ]
      },
      {
       "metadata": {},
       "output_type": "pyout",
       "prompt_number": 83,
       "text": [
        "[<matplotlib.lines.Line2D at 0x126d6dc10>]"
       ]
      },
      {
       "metadata": {},
       "output_type": "display_data",
       "png": "[encoded data removed]",
       "text": [
        "<matplotlib.figure.Figure at 0x122d06290>"
       ]
      }
     ],
     "prompt_number": 83
    },
    {
     "cell_type": "markdown",
     "metadata": {},
     "source": [
      "We can get the Sources measured by a Measurement through the containing Epoch's `inputSources`. "
     ]
    },
    {
     "cell_type": "code",
     "collapsed": false,
     "input": [
      "source = to_dict(m_numeric.getEpoch().getInputSources())['mouse']\n",
      "print('{} | {} ({})'.format(source.getLabel(), source.getIdentifier(), source.getURI().toString()))"
     ],
     "language": "python",
     "metadata": {},
     "outputs": [
      {
       "output_type": "stream",
       "stream": "stdout",
       "text": [
        "BL6 | mouse-id-1 (ovation://3cf54692-68da-4ed6-8dae-45ffa2f680fd/)\n"
       ]
      }
     ],
     "prompt_number": 95
    },
    {
     "cell_type": "heading",
     "level": 2,
     "metadata": {},
     "source": [
      "Tracking analyses"
     ]
    },
    {
     "cell_type": "markdown",
     "metadata": {},
     "source": [
      "Ovation can help you track the provenance of your analyses. Each `AnlaysisRecord` descries the inputs, procedure and outputs of an analysis step. Analysis Records can be chained so that the output of one provides (one of) the input(s) to a future Analysis Record. In this way, Ovation can help track the flow of data and results through multiple steps of analysis. At any time, you can follow this provenance backwards to understand how an analysis was performed and what data was used, or to repeat an analysis.\n",
      "\n",
      "First, you'll have to do some analysis:"
     ]
    },
    {
     "cell_type": "code",
     "collapsed": false,
     "input": [
      "# ... perform some awesome analysis here\n",
      "\n",
      "result = pd.DataFrame({'results' : np.random.randn(100)})"
     ],
     "language": "python",
     "metadata": {},
     "outputs": [],
     "prompt_number": 102
    },
    {
     "cell_type": "markdown",
     "metadata": {},
     "source": [
      "Now you can add an AnalysisRecord. AnalysisRecords can currently be attached to `Project` or `Epoch` entities, but soon you'll be able to attach them anywhere in the hierachy including at `Source`,  and `Experiment` entities.\n",
      "\n",
      "AnalysisRecords also have a `Protocol`. Protocols can reference a source repository, revision and entry function in addition to a text description. Here we'll create a Protocol for the ovation-python repository."
     ]
    },
    {
     "cell_type": "code",
     "collapsed": false,
     "input": [
      "result = context.getOrInsertProtocol('ovation-python', 'The Ovation Python API repository example')\n",
      "protocol = result.get()\n",
      "if result.isNew():\n",
      "    protocol.setFunctionName('ovation-python_intro')\n",
      "    protocol.setScmUrl('https://github.com/physion/ovation-python.git')\n",
      "    protocol.setScmRevision('2950f7a7a284099ba9d7c3a99259efb64aa9efbc')"
     ],
     "language": "python",
     "metadata": {},
     "outputs": [
      {
       "ename": "JavaException",
       "evalue": "JVM exception occured",
       "output_type": "pyerr",
       "traceback": [
        "\u001b[0;31m---------------------------------------------------------------------------\u001b[0m\n\u001b[0;31mJavaException\u001b[0m                             Traceback (most recent call last)",
        "\u001b[0;32m<ipython-input-104-2b6681400c0b>\u001b[0m in \u001b[0;36m<module>\u001b[0;34m()\u001b[0m\n",
        "\u001b[0;32m/Users/barry/anaconda/lib/python2.7/site-packages/jnius/jnius.so\u001b[0m in \u001b[0;36mjnius.JavaMethod.__call__ (jnius/jnius.c:18589)\u001b[0;34m()\u001b[0m\n",
        "\u001b[0;32m/Users/barry/anaconda/lib/python2.7/site-packages/jnius/jnius.so\u001b[0m in \u001b[0;36mjnius.JavaMethod.call_method (jnius/jnius.c:19492)\u001b[0;34m()\u001b[0m\n",
        "\u001b[0;32m/Users/barry/anaconda/lib/python2.7/site-packages/jnius/jnius.so\u001b[0m in \u001b[0;36mjnius.check_exception (jnius/jnius.c:3953)\u001b[0;34m()\u001b[0m\n",
        "\u001b[0;31mJavaException\u001b[0m: JVM exception occured"
       ]
      }
     ],
     "prompt_number": 104
    },
    {
     "cell_type": "code",
     "collapsed": false,
     "input": [
      "parameters = {} # Parameters store parameters of the analysis such as function arguments, etc.\n",
      "\n",
      "# Like naming Sources within the Epoch, inputs are named within the Analysis Record\n",
      "inputs = {'tabluar' : m_tabular,\n",
      "          'numeric' : m_numeric}\n",
      "\n",
      "record = project.addAnalysisRecord('First analysis',                # Record name\n",
      "                                   to_map(inputs),                 # The *inputs* to the analysis\n",
      "                                   protocol,                        # The analysis protocol\n",
      "                                   to_map(parameters)               # Analysis parameters\n",
      "                                   )"
     ],
     "language": "python",
     "metadata": {},
     "outputs": [],
     "prompt_number": 108
    },
    {
     "cell_type": "markdown",
     "metadata": {},
     "source": [
      "You can add any file as an output of the analysis, but there's a special function for adding tabular data:"
     ]
    },
    {
     "cell_type": "code",
     "collapsed": false,
     "input": [
      "add_tabular_analysis_artifact(record,\n",
      "                              'results', # Resource name\n",
      "                              result)"
     ],
     "language": "python",
     "metadata": {},
     "outputs": []
    },
    {
     "cell_type": "markdown",
     "metadata": {},
     "source": []
    },
    {
     "cell_type": "markdown",
     "metadata": {},
     "source": [
      "Now, we can find the inputs to this analysis by following the record's inputs:"
     ]
    },
    {
     "cell_type": "code",
     "collapsed": false,
     "input": [
      "inputs = to_dict(record.getInputs()) #dictionary\n",
      "print(inputs)"
     ],
     "language": "python",
     "metadata": {},
     "outputs": [
      {
       "output_type": "stream",
       "stream": "stdout",
       "text": [
        "{'tabluar': <us.physion.ovation.domain.concrete.Measurement at 0x12a4593b0 jclass=us/physion/ovation/domain/concrete/Measurement jself=<LocalRef obj=0x1058bf910 at 0x125ca9250>>, 'numeric': <us.physion.ovation.domain.concrete.Measurement at 0x12a459290 jclass=us/physion/ovation/domain/concrete/Measurement jself=<LocalRef obj=0x1058bf918 at 0x10571b290>>}\n"
       ]
      }
     ],
     "prompt_number": 115
    },
    {
     "cell_type": "heading",
     "level": 2,
     "metadata": {},
     "source": [
      "More info"
     ]
    },
    {
     "cell_type": "markdown",
     "metadata": {},
     "source": [
      "More info about the Ovation data model and workflow is at http://docs.ovation.io. You can find the complete Ovation API documentation at http://javadoc.ovation.io"
     ]
    }
   ],
   "metadata": {}
  }
 ]
}