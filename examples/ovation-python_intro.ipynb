{
 "metadata": {
  "name": "",
  "signature": "sha256:cc79ac5b88bdd59a918ae0a60bfae7ce37d47f0d8c163974d369f6d7fbf04643"
 },
 "nbformat": 3,
 "nbformat_minor": 0,
 "worksheets": [
  {
   "cells": [
    {
     "cell_type": "heading",
     "level": 1,
     "metadata": {},
     "source": [
      "Introduction \u2014\u00a0Ovation Python API"
     ]
    },
    {
     "cell_type": "code",
     "collapsed": false,
     "input": [
      "from ovation.connection import new_data_context\n",
      "from ovation.conversion import asclass, to_dict, to_list, to_map, to_set\n",
      "from ovation.core import date_time"
     ],
     "language": "python",
     "metadata": {},
     "outputs": [],
     "prompt_number": 1
    },
    {
     "cell_type": "heading",
     "level": 2,
     "metadata": {},
     "source": [
      "Connection"
     ]
    },
    {
     "cell_type": "markdown",
     "metadata": {},
     "source": [
      "**Check the console for the password prompt\u2026**"
     ]
    },
    {
     "cell_type": "code",
     "collapsed": false,
     "input": [
      "context = new_data_context(raw_input('Email: '))"
     ],
     "language": "python",
     "metadata": {},
     "outputs": [
      {
       "name": "stdout",
       "output_type": "stream",
       "stream": "stdout",
       "text": [
        "Email: barry@physion.us\n"
       ]
      },
      {
       "output_type": "stream",
       "stream": "stdout",
       "text": [
        "Ovation API v2.1.20\n"
       ]
      }
     ],
     "prompt_number": 2
    },
    {
     "cell_type": "heading",
     "level": 2,
     "metadata": {},
     "source": [
      "Adding new data"
     ]
    },
    {
     "cell_type": "heading",
     "level": 3,
     "metadata": {},
     "source": [
      "Add a Project"
     ]
    },
    {
     "cell_type": "markdown",
     "metadata": {},
     "source": [
      "Ovation's API uses `insertX` to denote methods that add data to the database. Annotations (i.e. data assoicated with a single user) is inserted with `addX` methods."
     ]
    },
    {
     "cell_type": "code",
     "collapsed": false,
     "input": [
      "print(asclass('java.lang.Object', context.getObjectWithURI('ovation://3d8a7921-67df-4231-b893-d7d8eb6d85fe/')).toString())"
     ],
     "language": "python",
     "metadata": {},
     "outputs": [
      {
       "output_type": "stream",
       "stream": "stdout",
       "text": [
        "Project:\n",
        "Name: Project Name\n",
        "Purpose: Project purpose...\n",
        "Revision: 2-4d635af694183631e970f0a3166d2583\n",
        "Tags:\n"
       ]
      }
     ],
     "prompt_number": 3
    },
    {
     "cell_type": "code",
     "collapsed": false,
     "input": [
      "list(context.getProjects())"
     ],
     "language": "python",
     "metadata": {},
     "outputs": [
      {
       "ename": "JavaException",
       "evalue": "Unable to find a None method!",
       "output_type": "pyerr",
       "traceback": [
        "\u001b[0;31m---------------------------------------------------------------------------\u001b[0m\n\u001b[0;31mJavaException\u001b[0m                             Traceback (most recent call last)",
        "\u001b[0;32m<ipython-input-4-89a5b3da0524>\u001b[0m in \u001b[0;36m<module>\u001b[0;34m()\u001b[0m\n\u001b[0;32m----> 1\u001b[0;31m \u001b[0mlist\u001b[0m\u001b[0;34m(\u001b[0m\u001b[0mcontext\u001b[0m\u001b[0;34m.\u001b[0m\u001b[0mgetProjects\u001b[0m\u001b[0;34m(\u001b[0m\u001b[0;34m)\u001b[0m\u001b[0;34m)\u001b[0m\u001b[0;34m\u001b[0m\u001b[0m\n\u001b[0m",
        "\u001b[0;32m/Users/barry/development/pyjnius/jnius/jnius.so\u001b[0m in \u001b[0;36mjnius.JavaMethod.__call__ (jnius/jnius.c:18589)\u001b[0;34m()\u001b[0m\n",
        "\u001b[0;32m/Users/barry/development/pyjnius/jnius/jnius.so\u001b[0m in \u001b[0;36mjnius.JavaMethod.call_method (jnius/jnius.c:19522)\u001b[0;34m()\u001b[0m\n",
        "\u001b[0;32m/Users/barry/development/pyjnius/jnius/jnius.so\u001b[0m in \u001b[0;36mjnius.convert_jobject_to_python (jnius/jnius.c:7398)\u001b[0;34m()\u001b[0m\n",
        "\u001b[0;32m/Users/barry/development/pyjnius/jnius/reflect.py\u001b[0m in \u001b[0;36mautoclass\u001b[0;34m(clsname)\u001b[0m\n\u001b[1;32m    197\u001b[0m             \u001b[0mclassDict\u001b[0m\u001b[0;34m[\u001b[0m\u001b[0mname\u001b[0m\u001b[0;34m]\u001b[0m \u001b[0;34m=\u001b[0m \u001b[0mcls\u001b[0m\u001b[0;34m(\u001b[0m\u001b[0msig\u001b[0m\u001b[0;34m,\u001b[0m \u001b[0mvarargs\u001b[0m\u001b[0;34m=\u001b[0m\u001b[0mvarargs\u001b[0m\u001b[0;34m)\u001b[0m\u001b[0;34m\u001b[0m\u001b[0m\n\u001b[1;32m    198\u001b[0m             \u001b[0;32mif\u001b[0m \u001b[0mname\u001b[0m \u001b[0;34m==\u001b[0m \u001b[0;34m'iterator'\u001b[0m\u001b[0;34m:\u001b[0m\u001b[0;34m\u001b[0m\u001b[0m\n\u001b[0;32m--> 199\u001b[0;31m                 \u001b[0mclassDict\u001b[0m\u001b[0;34m[\u001b[0m\u001b[0m__iter__\u001b[0m\u001b[0;34m]\u001b[0m \u001b[0;34m=\u001b[0m \u001b[0mwrap_iterator_fn\u001b[0m\u001b[0;34m(\u001b[0m\u001b[0mclassDict\u001b[0m\u001b[0;34m[\u001b[0m\u001b[0mname\u001b[0m\u001b[0;34m]\u001b[0m\u001b[0;34m)\u001b[0m\u001b[0;34m\u001b[0m\u001b[0m\n\u001b[0m\u001b[1;32m    200\u001b[0m             \u001b[0;32mcontinue\u001b[0m\u001b[0;34m\u001b[0m\u001b[0m\n\u001b[1;32m    201\u001b[0m \u001b[0;34m\u001b[0m\u001b[0m\n",
        "\u001b[0;32m/Users/barry/development/pyjnius/jnius/reflect.py\u001b[0m in \u001b[0;36mwrap_iterator_fn\u001b[0;34m(iterator_fn)\u001b[0m\n\u001b[1;32m    156\u001b[0m \u001b[0;34m\u001b[0m\u001b[0m\n\u001b[1;32m    157\u001b[0m \u001b[0;32mdef\u001b[0m \u001b[0mwrap_iterator_fn\u001b[0m\u001b[0;34m(\u001b[0m\u001b[0miterator_fn\u001b[0m\u001b[0;34m)\u001b[0m\u001b[0;34m:\u001b[0m\u001b[0;34m\u001b[0m\u001b[0m\n\u001b[0;32m--> 158\u001b[0;31m     \u001b[0;32mreturn\u001b[0m \u001b[0mIteratorWrapper\u001b[0m\u001b[0;34m(\u001b[0m\u001b[0miterator_fn\u001b[0m\u001b[0;34m(\u001b[0m\u001b[0;34m)\u001b[0m\u001b[0;34m)\u001b[0m\u001b[0;34m\u001b[0m\u001b[0m\n\u001b[0m\u001b[1;32m    159\u001b[0m \u001b[0;34m\u001b[0m\u001b[0m\n\u001b[1;32m    160\u001b[0m \u001b[0;32mdef\u001b[0m \u001b[0mautoclass\u001b[0m\u001b[0;34m(\u001b[0m\u001b[0mclsname\u001b[0m\u001b[0;34m)\u001b[0m\u001b[0;34m:\u001b[0m\u001b[0;34m\u001b[0m\u001b[0m\n",
        "\u001b[0;32m/Users/barry/development/pyjnius/jnius/jnius.so\u001b[0m in \u001b[0;36mjnius.JavaMethod.__call__ (jnius/jnius.c:18471)\u001b[0;34m()\u001b[0m\n",
        "\u001b[0;32m/Users/barry/development/pyjnius/jnius/jnius.so\u001b[0m in \u001b[0;36mjnius.JavaMethod.ensure_method (jnius/jnius.c:17920)\u001b[0;34m()\u001b[0m\n",
        "\u001b[0;31mJavaException\u001b[0m: Unable to find a None method!"
       ]
      }
     ],
     "prompt_number": 4
    },
    {
     "cell_type": "code",
     "collapsed": false,
     "input": [
      "project_start = date_time(2010, 10, 17)\n",
      "project = context.insertProject(\"Project Name\", \"Project purpose...\", project_start)\n"
     ],
     "language": "python",
     "metadata": {},
     "outputs": [],
     "prompt_number": 5
    },
    {
     "cell_type": "markdown",
     "metadata": {},
     "source": [
      "You can retrieve a `Project` (or any other object) from the database by URI"
     ]
    },
    {
     "cell_type": "code",
     "collapsed": false,
     "input": [
      "project_uri = project.getURI().toString()\n",
      "print('Project URI: {}'.format(project_uri))"
     ],
     "language": "python",
     "metadata": {},
     "outputs": [
      {
       "output_type": "stream",
       "stream": "stdout",
       "text": [
        "Project URI: ovation://3d8a7921-67df-4231-b893-d7d8eb6d85fe/\n"
       ]
      }
     ],
     "prompt_number": 6
    },
    {
     "cell_type": "code",
     "collapsed": false,
     "input": [
      "project = asclass('Project', context.getObjectWithURI(project_uri))"
     ],
     "language": "python",
     "metadata": {},
     "outputs": [],
     "prompt_number": 18
    },
    {
     "cell_type": "heading",
     "level": 3,
     "metadata": {},
     "source": [
      "Add an Experiment to a project"
     ]
    },
    {
     "cell_type": "code",
     "collapsed": false,
     "input": [
      "experiment_start = date_time(2010, 10, 18)\n",
      "experiment = project.insertExperiment('Experiment description', experiment_start)"
     ],
     "language": "python",
     "metadata": {},
     "outputs": [],
     "prompt_number": 19
    },
    {
     "cell_type": "heading",
     "level": 3,
     "metadata": {},
     "source": [
      "Add a `Source` object describing the experimental subject"
     ]
    },
    {
     "cell_type": "markdown",
     "metadata": {},
     "source": [
      "`Sources` refer to physical entities that are measured from during an experiment. Sources have a label (what's shown in the Ovation UI) and an identifier attributes. The identifier should be unique and might refer to the Sources ID in an animal facility, patient number or other identifying value of the Source."
     ]
    },
    {
     "cell_type": "code",
     "collapsed": false,
     "input": [
      "source = context.insertSource('BL6', 'mouse-id-1')"
     ],
     "language": "python",
     "metadata": {},
     "outputs": [],
     "prompt_number": 20
    },
    {
     "cell_type": "code",
     "collapsed": false,
     "input": [
      "source.addProperty('sex', 'M')\n",
      "source.addProperty('date of birth', date_time(2010, 10, 1))"
     ],
     "language": "python",
     "metadata": {},
     "outputs": [],
     "prompt_number": 21
    },
    {
     "cell_type": "heading",
     "level": 3,
     "metadata": {},
     "source": [
      "Add an Epoch to store information about the procedure used to make a measurement"
     ]
    },
    {
     "cell_type": "heading",
     "level": 2,
     "metadata": {},
     "source": [
      "Reading data"
     ]
    },
    {
     "cell_type": "code",
     "collapsed": false,
     "input": [],
     "language": "python",
     "metadata": {},
     "outputs": []
    },
    {
     "cell_type": "heading",
     "level": 2,
     "metadata": {},
     "source": [
      "Tracking analyses"
     ]
    },
    {
     "cell_type": "code",
     "collapsed": false,
     "input": [],
     "language": "python",
     "metadata": {},
     "outputs": []
    }
   ],
   "metadata": {}
  }
 ]
}