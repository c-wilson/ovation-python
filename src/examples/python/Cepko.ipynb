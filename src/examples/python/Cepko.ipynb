{
 "metadata": {
  "name": "Cepko"
 },
 "nbformat": 3,
 "nbformat_minor": 0,
 "worksheets": [
  {
   "cells": [
    {
     "cell_type": "code",
     "collapsed": false,
     "input": [
      "\n",
      "from ovation import *\n",
      "from ovation.core import *\n",
      "from ovation.wrapper import *\n",
      "from ovation.connection import connect, nbgetpass\n",
      "import numpy as np\n",
      "import quantities as qp\n",
      "\n",
      "initVM()\n",
      "\n",
      "nbgetpass(email=\"ovation_email\", passwd=\"ovation_pw\")\n"
     ],
     "language": "python",
     "metadata": {},
     "outputs": [
      {
       "javascript": [
        "\n",
        "var dialog = $('<div/>').append(\n",
        "    $('<input/>')\n",
        "    .attr('id', 'email')\n",
        "    .attr('name', 'email')\n",
        "    .attr('type', 'email')\n",
        "    .attr('value', '')\n",
        "    ).append(\n",
        "        $('<input/>')\n",
        "        .attr('id', 'password')\n",
        "        .attr('name', 'password')\n",
        "        .attr('type', 'password')\n",
        "        .attr('value', '')\n",
        "    );\n",
        "$(document).append(dialog);\n",
        "dialog.dialog({\n",
        "    resizable: false,\n",
        "    modal: true,\n",
        "    title: \"Ovation.io Credentials\",\n",
        "    closeText: '',\n",
        "    buttons : {\n",
        "        \"Okay\": function () {\n",
        "            IPython.notebook.kernel.execute(\n",
        "                \"ovation_pw = '\" + $(\"input#password\").attr('value') + \"'\"\n",
        "            );\n",
        "            IPython.notebook.kernel.execute(\n",
        "                \"ovation_email = '\" + $(\"input#email\").attr('value') + \"'\"\n",
        "            );\n",
        "            $(this).dialog('close');\n",
        "            dialog.remove();\n",
        "        },\n",
        "        \"Cancel\": function () {\n",
        "            $(this).dialog('close');\n",
        "            dialog.remove();\n",
        "        }\n",
        "    }\n",
        "});\n"
       ],
       "output_type": "display_data"
      }
     ],
     "prompt_number": 1
    },
    {
     "cell_type": "code",
     "collapsed": false,
     "input": [
      "dataStoreCoordinator = connect(ovation_email, ovation_pw)"
     ],
     "language": "python",
     "metadata": {},
     "outputs": [],
     "prompt_number": 2
    },
    {
     "cell_type": "code",
     "collapsed": false,
     "input": [
      "ctx = dataStoreCoordinator.getContext()"
     ],
     "language": "python",
     "metadata": {},
     "outputs": [],
     "prompt_number": 3
    },
    {
     "cell_type": "code",
     "collapsed": false,
     "input": [
      "mice = []"
     ],
     "language": "python",
     "metadata": {},
     "outputs": [],
     "prompt_number": 4
    },
    {
     "cell_type": "code",
     "collapsed": false,
     "input": [
      "for i in xrange(10):\n",
      "    mice.append(ctx.insertSource(\"Mouse {}\".format(i), \"ID-{}\".format(i)))"
     ],
     "language": "python",
     "metadata": {},
     "outputs": [],
     "prompt_number": 5
    },
    {
     "cell_type": "code",
     "collapsed": false,
     "input": [
      "protocol = ctx.getProtocol('Retina protocol') #ctx.insertProtocol('Retina protocol', 'We did something!')"
     ],
     "language": "python",
     "metadata": {},
     "outputs": [],
     "prompt_number": 6
    },
    {
     "cell_type": "code",
     "collapsed": false,
     "input": [
      "today = DateTime()\n",
      "project = ctx.insertProject('Cepko Demo', 'Imaging and CSV demo', today.minusDays(10))"
     ],
     "language": "python",
     "metadata": {},
     "outputs": [],
     "prompt_number": 10
    },
    {
     "cell_type": "code",
     "collapsed": false,
     "input": [
      "experiments = []\n",
      "for (i,s) in enumerate(mice):\n",
      "    exp = project.insertExperiment('Experiment {}'.format(i), today.minusDays(10-i))\n",
      "    "
     ],
     "language": "python",
     "metadata": {},
     "outputs": [],
     "prompt_number": 12
    },
    {
     "cell_type": "code",
     "collapsed": false,
     "input": [
      "project = Project.cast_(ctx.getObjectWithUuid(UUID.fromString('bd951ec4-9c2f-4a93-bb8c-a4c5b171a427')))"
     ],
     "language": "python",
     "metadata": {},
     "outputs": [],
     "prompt_number": 7
    },
    {
     "cell_type": "code",
     "collapsed": false,
     "input": [
      "experiments = list(project.getExperiments())"
     ],
     "language": "python",
     "metadata": {},
     "outputs": [],
     "prompt_number": 8
    },
    {
     "cell_type": "code",
     "collapsed": false,
     "input": [
      "epochs = []\n",
      "for exp in experiments:\n",
      "    for group in EpochGroupContainer.cast_(exp).getEpochGroups():\n",
      "        for i in xrange(10):\n",
      "            params = Maps.newHashMap()\n",
      "            params.put('param1', 'value1')\n",
      "            params.put('param2', 2)\n",
      "            sources = Maps.newHashMap()\n",
      "            sources.put(\"mouse\", mice[i])\n",
      "            start = DateTime(TimelineElement.cast_(exp).getStart()).plusSeconds(i * 60)\n",
      "            end = start.plusSeconds(10)\n",
      "            epoch = group.insertEpoch(sources, Maps.newHashMap(), start, end, protocol, params, params)\n",
      "            epochs.append(epoch)"
     ],
     "language": "python",
     "metadata": {},
     "outputs": [],
     "prompt_number": 10
    },
    {
     "cell_type": "code",
     "collapsed": false,
     "input": [
      "for (i,ep) in enumerate(epochs):\n",
      "    if i % 10 == 0:\n",
      "        print \"Epoch {}\".format(i)\n",
      "    data = NumericData()\n",
      "    data.addData(\"trace1\", JArray_double(np.random.randn(10 * 1000)), \"mV\", 1000., 'Hz')\n",
      "    m = ep.insertNumericMeasurement(\"trace1\", None, None, data)\n",
      "    if(i < 10):\n",
      "        m_img = epoch.insertMeasurement(\"anika\", None, None, URL(\"file:///Users/barry/Desktop/IMG_1731_TIFF copy {}.tiff\".format(i+1)), \"image/tiff\")\n",
      "    if ep is epochs[0]:\n",
      "        taggable(ep).addTag('example')"
     ],
     "language": "python",
     "metadata": {},
     "outputs": [
      {
       "output_type": "stream",
       "stream": "stdout",
       "text": [
        "Epoch 0\n",
        "Epoch 10"
       ]
      },
      {
       "output_type": "stream",
       "stream": "stdout",
       "text": [
        "\n",
        "Epoch 20"
       ]
      },
      {
       "output_type": "stream",
       "stream": "stdout",
       "text": [
        "\n",
        "Epoch 30"
       ]
      },
      {
       "output_type": "stream",
       "stream": "stdout",
       "text": [
        "\n",
        "Epoch 40"
       ]
      }
     ],
     "prompt_number": "*"
    },
    {
     "cell_type": "code",
     "collapsed": false,
     "input": [
      "ep.getMeasurements()"
     ],
     "language": "python",
     "metadata": {},
     "outputs": [],
     "prompt_number": "*"
    },
    {
     "cell_type": "code",
     "collapsed": false,
     "input": [],
     "language": "python",
     "metadata": {},
     "outputs": []
    }
   ],
   "metadata": {}
  }
 ]
}