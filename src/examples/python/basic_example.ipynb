{
 "metadata": {
  "name": "basic_example"
 },
 "nbformat": 3,
 "nbformat_minor": 0,
 "worksheets": [
  {
   "cells": [
    {
     "cell_type": "heading",
     "level": 1,
     "metadata": {},
     "source": [
      "Ovation Python API Introduction"
     ]
    },
    {
     "cell_type": "heading",
     "level": 2,
     "metadata": {},
     "source": [
      "Initialization"
     ]
    },
    {
     "cell_type": "markdown",
     "metadata": {},
     "source": [
      "You must call `initVM()` before using the Ovation API wrapper"
     ]
    },
    {
     "cell_type": "code",
     "collapsed": false,
     "input": [
      "from ovation import initVM, Ovation\n",
      "initVM();"
     ],
     "language": "python",
     "metadata": {},
     "outputs": []
    },
    {
     "cell_type": "heading",
     "level": 2,
     "metadata": {},
     "source": [
      "Data Store Coordinator"
     ]
    },
    {
     "cell_type": "markdown",
     "metadata": {},
     "source": [
      "Create a `DataStoreCoordinator` for creating a `DataContext`"
     ]
    },
    {
     "cell_type": "code",
     "collapsed": false,
     "input": [
      "dataStoreCoordinator = Ovation.newDataStoreCoordinator();\n",
      "#TODO authenticate dsc"
     ],
     "language": "python",
     "metadata": {},
     "outputs": []
    },
    {
     "cell_type": "markdown",
     "metadata": {},
     "source": [
      "Create a `DataContext` for interacting with the Ovation database"
     ]
    },
    {
     "cell_type": "code",
     "collapsed": false,
     "input": [
      "ctx.addUser('ipython', 'info@physion.us', 'demo')"
     ],
     "language": "python",
     "metadata": {},
     "outputs": [
      {
       "ename": "InvalidArgsError",
       "evalue": "(<type 'DataContext'>, 'addUser', ('ipython', 'info@physion.us', 'demo'))",
       "output_type": "pyerr",
       "traceback": [
        "\u001b[0;31m---------------------------------------------------------------------------\u001b[0m\n\u001b[0;31mInvalidArgsError\u001b[0m                          Traceback (most recent call last)",
        "\u001b[0;32m<ipython-input-21-0f5f77aa9328>\u001b[0m in \u001b[0;36m<module>\u001b[0;34m()\u001b[0m\n\u001b[0;32m----> 1\u001b[0;31m \u001b[0mctx\u001b[0m\u001b[0;34m.\u001b[0m\u001b[0maddUser\u001b[0m\u001b[0;34m(\u001b[0m\u001b[0;34m'ipython'\u001b[0m\u001b[0;34m,\u001b[0m \u001b[0;34m'info@physion.us'\u001b[0m\u001b[0;34m,\u001b[0m \u001b[0;34m'demo'\u001b[0m\u001b[0;34m)\u001b[0m\u001b[0;34m\u001b[0m\u001b[0m\n\u001b[0m",
        "\u001b[0;31mInvalidArgsError\u001b[0m: (<type 'DataContext'>, 'addUser', ('ipython', 'info@physion.us', 'demo'))"
       ]
      }
     ],
     "prompt_number": 21
    },
    {
     "cell_type": "code",
     "collapsed": false,
     "input": [
      "ctx = dataStoreCoordinator.getContext()\n",
      "ctx.addUser('ipython', 'info@physion.us', 'demo')"
     ],
     "language": "python",
     "metadata": {},
     "outputs": []
    },
    {
     "cell_type": "code",
     "collapsed": false,
     "input": [
      "source = ctx.insertSource('python','example-id')"
     ],
     "language": "python",
     "metadata": {},
     "outputs": []
    }
   ],
   "metadata": {}
  }
 ]
}