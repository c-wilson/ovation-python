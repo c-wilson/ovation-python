{
 "metadata": {
  "name": "basic_example"
 },
 "nbformat": 3,
 "nbformat_minor": 0,
 "worksheets": [
  {
   "cells": [
    {
     "cell_type": "heading",
     "level": 1,
     "metadata": {},
     "source": [
      "Ovation Python API Introduction"
     ]
    },
    {
     "cell_type": "heading",
     "level": 2,
     "metadata": {},
     "source": [
      "Initialization"
     ]
    },
    {
     "cell_type": "markdown",
     "metadata": {},
     "source": [
      "You must call `initVM()` before using the Ovation API wrapper"
     ]
    },
    {
     "cell_type": "code",
     "collapsed": false,
     "input": [
      "from ovation import *\n",
      "from ovation.connection import connect\n"
     ],
     "language": "python",
     "metadata": {},
     "outputs": [],
     "prompt_number": 1
    },
    {
     "cell_type": "code",
     "collapsed": false,
     "input": [
      "initVM()"
     ],
     "language": "python",
     "metadata": {},
     "outputs": [
      {
       "output_type": "pyout",
       "prompt_number": 2,
       "text": [
        "<jcc.JCCEnv at 0x1077ba570>"
       ]
      }
     ],
     "prompt_number": 2
    },
    {
     "cell_type": "heading",
     "level": 2,
     "metadata": {},
     "source": [
      "Testing"
     ]
    },
    {
     "cell_type": "markdown",
     "metadata": {},
     "source": [
      "For this demo, we create a local database stack. Normally you would **not** perform this step. Instead, you should continue with `new_data_store_coordinator` below."
     ]
    },
    {
     "cell_type": "code",
     "collapsed": false,
     "input": [
      "from ovation.testing import make_local_stack\n",
      "\n",
      "local_stack, dsc = make_local_stack()"
     ],
     "language": "python",
     "metadata": {},
     "outputs": [
      {
       "ename": "AttributeError",
       "evalue": "'ListenableFuture' object has no attribute 'get'",
       "output_type": "pyerr",
       "traceback": [
        "\u001b[0;31m---------------------------------------------------------------------------\u001b[0m\n\u001b[0;31mAttributeError\u001b[0m                            Traceback (most recent call last)",
        "\u001b[0;32m<ipython-input-3-2dcc5f52a84a>\u001b[0m in \u001b[0;36m<module>\u001b[0;34m()\u001b[0m\n\u001b[1;32m      1\u001b[0m \u001b[0;32mfrom\u001b[0m \u001b[0movation\u001b[0m\u001b[0;34m.\u001b[0m\u001b[0mtesting\u001b[0m \u001b[0;32mimport\u001b[0m \u001b[0mmake_local_stack\u001b[0m\u001b[0;34m\u001b[0m\u001b[0m\n\u001b[1;32m      2\u001b[0m \u001b[0;34m\u001b[0m\u001b[0m\n\u001b[0;32m----> 3\u001b[0;31m \u001b[0mlocal_stack\u001b[0m\u001b[0;34m,\u001b[0m \u001b[0mdsc\u001b[0m \u001b[0;34m=\u001b[0m \u001b[0mmake_local_stack\u001b[0m\u001b[0;34m(\u001b[0m\u001b[0;34m)\u001b[0m\u001b[0;34m\u001b[0m\u001b[0m\n\u001b[0m",
        "\u001b[0;32m/Library/Python/2.7/site-packages/ovation-2.0_SNAPSHOT-py2.7-macosx-10.8-x86_64.egg/ovation/testing.pyc\u001b[0m in \u001b[0;36mmake_local_stack\u001b[0;34m()\u001b[0m\n\u001b[1;32m     46\u001b[0m \u001b[0;32mdef\u001b[0m \u001b[0mmake_local_stack\u001b[0m\u001b[0;34m(\u001b[0m\u001b[0;34m)\u001b[0m\u001b[0;34m:\u001b[0m\u001b[0;34m\u001b[0m\u001b[0m\n\u001b[1;32m     47\u001b[0m     \u001b[0mstack\u001b[0m\u001b[0;34m,\u001b[0m\u001b[0muserIdentity\u001b[0m\u001b[0;34m,\u001b[0m\u001b[0muserPassword\u001b[0m \u001b[0;34m=\u001b[0m \u001b[0m__make_local_stack\u001b[0m\u001b[0;34m(\u001b[0m\u001b[0;34m)\u001b[0m\u001b[0;34m\u001b[0m\u001b[0m\n\u001b[0;32m---> 48\u001b[0;31m     \u001b[0mdsc\u001b[0m \u001b[0;34m=\u001b[0m \u001b[0m__make_authenticated_dsc\u001b[0m\u001b[0;34m(\u001b[0m\u001b[0mstack\u001b[0m\u001b[0;34m,\u001b[0m \u001b[0muserIdentity\u001b[0m\u001b[0;34m,\u001b[0m \u001b[0muserPassword\u001b[0m\u001b[0;34m)\u001b[0m\u001b[0;34m\u001b[0m\u001b[0m\n\u001b[0m\u001b[1;32m     49\u001b[0m \u001b[0;34m\u001b[0m\u001b[0m\n\u001b[1;32m     50\u001b[0m     \u001b[0;32mreturn\u001b[0m \u001b[0;34m(\u001b[0m\u001b[0mstack\u001b[0m\u001b[0;34m,\u001b[0m \u001b[0mdsc\u001b[0m\u001b[0;34m)\u001b[0m\u001b[0;34m\u001b[0m\u001b[0m\n",
        "\u001b[0;32m/Library/Python/2.7/site-packages/ovation-2.0_SNAPSHOT-py2.7-macosx-10.8-x86_64.egg/ovation/testing.pyc\u001b[0m in \u001b[0;36m__make_authenticated_dsc\u001b[0;34m(local_stack, userIdentity, userPassword)\u001b[0m\n\u001b[1;32m     21\u001b[0m \u001b[0;34m\u001b[0m\u001b[0m\n\u001b[1;32m     22\u001b[0m     \u001b[0mdsc\u001b[0m \u001b[0;34m=\u001b[0m \u001b[0mlocal_stack\u001b[0m\u001b[0;34m.\u001b[0m\u001b[0mgetDataStoreCoordinator\u001b[0m\u001b[0;34m(\u001b[0m\u001b[0;34m)\u001b[0m\u001b[0;34m\u001b[0m\u001b[0m\n\u001b[0;32m---> 23\u001b[0;31m     \u001b[0mdsc\u001b[0m\u001b[0;34m.\u001b[0m\u001b[0mauthenticateUser\u001b[0m\u001b[0;34m(\u001b[0m\u001b[0muserIdentity\u001b[0m\u001b[0;34m,\u001b[0m \u001b[0mJArray\u001b[0m\u001b[0;34m(\u001b[0m\u001b[0;34m'char'\u001b[0m\u001b[0;34m)\u001b[0m\u001b[0;34m(\u001b[0m\u001b[0muserPassword\u001b[0m\u001b[0;34m)\u001b[0m\u001b[0;34m,\u001b[0m \u001b[0mFalse\u001b[0m\u001b[0;34m)\u001b[0m\u001b[0;34m.\u001b[0m\u001b[0mget\u001b[0m\u001b[0;34m(\u001b[0m\u001b[0;34m)\u001b[0m\u001b[0;34m\u001b[0m\u001b[0m\n\u001b[0m\u001b[1;32m     24\u001b[0m \u001b[0;34m\u001b[0m\u001b[0m\n\u001b[1;32m     25\u001b[0m     \u001b[0;32mreturn\u001b[0m \u001b[0mdsc\u001b[0m\u001b[0;34m\u001b[0m\u001b[0m\n",
        "\u001b[0;31mAttributeError\u001b[0m: 'ListenableFuture' object has no attribute 'get'"
       ]
      }
     ],
     "prompt_number": 3
    },
    {
     "cell_type": "heading",
     "level": 2,
     "metadata": {},
     "source": [
      "Data Store Coordinator"
     ]
    },
    {
     "cell_type": "markdown",
     "metadata": {},
     "source": [
      "Create a `DataStoreCoordinator` for creating a `DataContext`"
     ]
    },
    {
     "cell_type": "code",
     "collapsed": false,
     "input": [
      "dataStoreCoordinator = connect('ipython', 'info@physion.us')\n",
      "#TODO authenticate dsc"
     ],
     "language": "python",
     "metadata": {},
     "outputs": []
    },
    {
     "cell_type": "markdown",
     "metadata": {},
     "source": [
      "Create a `DataContext` for interacting with the Ovation database"
     ]
    },
    {
     "cell_type": "code",
     "collapsed": false,
     "input": [
      "ctx = dataStoreCoordinator.getContext()"
     ],
     "language": "python",
     "metadata": {},
     "outputs": []
    },
    {
     "cell_type": "code",
     "collapsed": false,
     "input": [
      "source = ctx.insertSource('python','example-id')"
     ],
     "language": "python",
     "metadata": {},
     "outputs": [],
     "prompt_number": 36
    },
    {
     "cell_type": "code",
     "collapsed": false,
     "input": [
      "protocol = ctx.insertProtocol('protocol-1', 'We did something!')"
     ],
     "language": "python",
     "metadata": {},
     "outputs": [],
     "prompt_number": 37
    },
    {
     "cell_type": "code",
     "collapsed": false,
     "input": [
      "project = ctx.insertProject('A project', 'Inserting data from Python', DateTime())"
     ],
     "language": "python",
     "metadata": {},
     "outputs": [],
     "prompt_number": 38
    },
    {
     "cell_type": "code",
     "collapsed": false,
     "input": [
      "experiment = project.insertExperiment('An Experiment', DateTime())"
     ],
     "language": "python",
     "metadata": {},
     "outputs": [],
     "prompt_number": 40
    },
    {
     "cell_type": "code",
     "collapsed": false,
     "input": [
      "epochGroup = experiment.insertEpochGroup('Trial group', DateTime(), None, None, None) # No protocol, params, or deviceParams"
     ],
     "language": "python",
     "metadata": {},
     "outputs": [],
     "prompt_number": 41
    },
    {
     "cell_type": "code",
     "collapsed": false,
     "input": [
      "params = Maps.newHashMap()\n",
      "params.put('param1', 'value1')\n",
      "params.put('param2', 2)\n",
      "start = DateTime()\n",
      "end = start.plusSeconds(10)\n",
      "epoch = epochGroup.insertEpoch(start, end, protocol, params, params)"
     ],
     "language": "python",
     "metadata": {},
     "outputs": [],
     "prompt_number": 42
    },
    {
     "cell_type": "code",
     "collapsed": false,
     "input": [
      "data = NumericData()\n",
      "data.addData(\"trace1\", JArray_double(np.random.randn(10 * 1000)), \"mV\", 1000., 'Hz')"
     ],
     "language": "python",
     "metadata": {},
     "outputs": [],
     "prompt_number": 46
    },
    {
     "cell_type": "code",
     "collapsed": false,
     "input": [
      "epoch.insertNumericMeasurement(\"trace1\", None, None, data)"
     ],
     "language": "python",
     "metadata": {},
     "outputs": [
      {
       "output_type": "pyout",
       "prompt_number": 47,
       "text": [
        "<NumericMeasurement: us.physion.ovation.domain.impl.NumericMeasurement@cdc6f83a>"
       ]
      }
     ],
     "prompt_number": 47
    },
    {
     "cell_type": "code",
     "collapsed": false,
     "input": [
      "import ovation.numpy as onp"
     ],
     "language": "python",
     "metadata": {},
     "outputs": [],
     "prompt_number": 50
    },
    {
     "cell_type": "code",
     "collapsed": false,
     "input": [
      "measurements = set(epoch.getMeasurements())"
     ],
     "language": "python",
     "metadata": {},
     "outputs": [],
     "prompt_number": 52
    },
    {
     "cell_type": "code",
     "collapsed": false,
     "input": [
      "m = NumericMeasurement.cast_(set(epoch.getMeasurements()).pop())"
     ],
     "language": "python",
     "metadata": {},
     "outputs": [],
     "prompt_number": 59
    },
    {
     "cell_type": "code",
     "collapsed": false,
     "input": [
      "d = m.getNumericData().getData()\n",
      "np.reshape(np.array(JArray_double.cast_(d.getData())), d.getShape())"
     ],
     "language": "python",
     "metadata": {},
     "outputs": [
      {
       "output_type": "pyout",
       "prompt_number": 71,
       "text": [
        "array([ 0.09104237, -1.2794004 , -2.09072334, ...,  0.29798789,\n",
        "       -1.34270812, -0.52239433])"
       ]
      }
     ],
     "prompt_number": 71
    },
    {
     "cell_type": "code",
     "collapsed": false,
     "input": [
      "And we can convert the data to a quantities array"
     ],
     "language": "python",
     "metadata": {},
     "outputs": []
    },
    {
     "cell_type": "code",
     "collapsed": false,
     "input": [
      "import quantities as pq\n",
      "data_element = d\n",
      "units = pq.Quantity([1], data_element.getUnits())\n",
      "shape = data_element.getShape()\n",
      "sampling_rates = data_element.getSamplingRates()\n",
      "sampling_rate_units = data_element.getSamplingRateUnits()\n",
      "dimension_labels = data_element.getDimensionLabels()\n",
      "\n",
      "arr = np.reshape(np.array(JArray_double.cast_(data_element.getData())) * units, shape)\n",
      "if len(sampling_rate_units) == 1:\n",
      "    arr.sampling_rate = pq.Quantity(sampling_rates, sampling_rate_units[0]) \n",
      "else:\n",
      "    arr.sampling_rates = tuple(pq.Quantity(rate, unit) for (rate,unit) in zip(sampling_rates, sampling_rate_units))\n",
      "\n",
      "arr.labels = dimension_labels\n",
      "arr"
     ],
     "language": "python",
     "metadata": {},
     "outputs": [
      {
       "output_type": "pyout",
       "prompt_number": 74,
       "text": [
        "array([ 0.09104237, -1.2794004 , -2.09072334, ...,  0.29798789,\n",
        "       -1.34270812, -0.52239433]) * mV"
       ]
      }
     ],
     "prompt_number": 74
    },
    {
     "cell_type": "heading",
     "level": 2,
     "metadata": {},
     "source": [
      "Clean up"
     ]
    },
    {
     "cell_type": "code",
     "collapsed": false,
     "input": [
      "local_stack.cleanUp()"
     ],
     "language": "python",
     "metadata": {},
     "outputs": [],
     "prompt_number": 75
    },
    {
     "cell_type": "code",
     "collapsed": false,
     "input": [],
     "language": "python",
     "metadata": {},
     "outputs": []
    }
   ],
   "metadata": {}
  }
 ]
}