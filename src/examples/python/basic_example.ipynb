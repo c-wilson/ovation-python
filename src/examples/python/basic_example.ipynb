{
 "metadata": {
  "name": "basic_example"
 },
 "nbformat": 3,
 "nbformat_minor": 0,
 "worksheets": [
  {
   "cells": [
    {
     "cell_type": "heading",
     "level": 1,
     "metadata": {},
     "source": [
      "Ovation Python API Introduction"
     ]
    },
    {
     "cell_type": "heading",
     "level": 2,
     "metadata": {},
     "source": [
      "Initialization"
     ]
    },
    {
     "cell_type": "markdown",
     "metadata": {},
     "source": [
      "You must call `initVM()` before using the Ovation API wrapper"
     ]
    },
    {
     "cell_type": "code",
     "collapsed": false,
     "input": [
      "from ovation import initVM, Ovation\n",
      "initVM()"
     ],
     "language": "python",
     "metadata": {},
     "outputs": []
    },
    {
     "cell_type": "heading",
     "level": 2,
     "metadata": {},
     "source": [
      "Data Store Coordinator"
     ]
    },
    {
     "cell_type": "code",
     "collapsed": false,
     "input": [
      "dataStoreCoordinator = Ovation.newDataStoreCoordinator()"
     ],
     "language": "python",
     "metadata": {},
     "outputs": []
    },
    {
     "cell_type": "code",
     "collapsed": false,
     "input": [
      "from ovation import KeychainAccountKeyStore\n",
      "k = KeychainAccountKeyStore()"
     ],
     "language": "python",
     "metadata": {},
     "outputs": []
    },
    {
     "cell_type": "code",
     "collapsed": false,
     "input": [
      "k.getAccountKey('us.physion.ovation.couch','barry')"
     ],
     "language": "python",
     "metadata": {},
     "outputs": []
    }
   ],
   "metadata": {}
  }
 ]
}