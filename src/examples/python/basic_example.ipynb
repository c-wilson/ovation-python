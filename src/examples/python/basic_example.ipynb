{
 "metadata": {
  "name": "basic_example"
 },
 "nbformat": 3,
 "nbformat_minor": 0,
 "worksheets": [
  {
   "cells": [
    {
     "cell_type": "heading",
     "level": 1,
     "metadata": {},
     "source": [
      "Ovation Python API Introduction"
     ]
    },
    {
     "cell_type": "heading",
     "level": 2,
     "metadata": {},
     "source": [
      "Initialization"
     ]
    },
    {
     "cell_type": "markdown",
     "metadata": {},
     "source": [
      "You must call `initVM()` before using the Ovation API wrapper"
     ]
    },
    {
     "cell_type": "code",
     "collapsed": false,
     "input": [
      "from ovation import *\n",
      "from ovation.connection import connect\n",
      "import numpy as np\n",
      "import quantities as qp"
     ],
     "language": "python",
     "metadata": {},
     "outputs": [],
     "prompt_number": 31
    },
    {
     "cell_type": "code",
     "collapsed": false,
     "input": [
      "initVM()"
     ],
     "language": "python",
     "metadata": {},
     "outputs": [
      {
       "output_type": "pyout",
       "prompt_number": 2,
       "text": [
        "<jcc.JCCEnv at 0x103117570>"
       ]
      }
     ],
     "prompt_number": 2
    },
    {
     "cell_type": "heading",
     "level": 2,
     "metadata": {},
     "source": [
      "Testing"
     ]
    },
    {
     "cell_type": "markdown",
     "metadata": {},
     "source": [
      "For this demo, we create a local database stack. Normally you would **not** perform this step. Instead, you should continue with `new_data_store_coordinator` below."
     ]
    },
    {
     "cell_type": "code",
     "collapsed": false,
     "input": [
      "from ovation.testing import make_local_stack\n",
      "\n",
      "local_stack, dsc = make_local_stack()"
     ],
     "language": "python",
     "metadata": {},
     "outputs": [
      {
       "ename": "AttributeError",
       "evalue": "'ListenableFuture' object has no attribute 'get'",
       "output_type": "pyerr",
       "traceback": [
        "\u001b[0;31m---------------------------------------------------------------------------\u001b[0m\n\u001b[0;31mAttributeError\u001b[0m                            Traceback (most recent call last)",
        "\u001b[0;32m<ipython-input-3-2dcc5f52a84a>\u001b[0m in \u001b[0;36m<module>\u001b[0;34m()\u001b[0m\n\u001b[1;32m      1\u001b[0m \u001b[0;32mfrom\u001b[0m \u001b[0movation\u001b[0m\u001b[0;34m.\u001b[0m\u001b[0mtesting\u001b[0m \u001b[0;32mimport\u001b[0m \u001b[0mmake_local_stack\u001b[0m\u001b[0;34m\u001b[0m\u001b[0m\n\u001b[1;32m      2\u001b[0m \u001b[0;34m\u001b[0m\u001b[0m\n\u001b[0;32m----> 3\u001b[0;31m \u001b[0mlocal_stack\u001b[0m\u001b[0;34m,\u001b[0m \u001b[0mdsc\u001b[0m \u001b[0;34m=\u001b[0m \u001b[0mmake_local_stack\u001b[0m\u001b[0;34m(\u001b[0m\u001b[0;34m)\u001b[0m\u001b[0;34m\u001b[0m\u001b[0m\n\u001b[0m",
        "\u001b[0;32m/Library/Python/2.7/site-packages/ovation-2.0_SNAPSHOT-py2.7-macosx-10.8-x86_64.egg/ovation/testing.pyc\u001b[0m in \u001b[0;36mmake_local_stack\u001b[0;34m()\u001b[0m\n\u001b[1;32m     46\u001b[0m \u001b[0;32mdef\u001b[0m \u001b[0mmake_local_stack\u001b[0m\u001b[0;34m(\u001b[0m\u001b[0;34m)\u001b[0m\u001b[0;34m:\u001b[0m\u001b[0;34m\u001b[0m\u001b[0m\n\u001b[1;32m     47\u001b[0m     \u001b[0mstack\u001b[0m\u001b[0;34m,\u001b[0m\u001b[0muserIdentity\u001b[0m\u001b[0;34m,\u001b[0m\u001b[0muserPassword\u001b[0m \u001b[0;34m=\u001b[0m \u001b[0m__make_local_stack\u001b[0m\u001b[0;34m(\u001b[0m\u001b[0;34m)\u001b[0m\u001b[0;34m\u001b[0m\u001b[0m\n\u001b[0;32m---> 48\u001b[0;31m     \u001b[0mdsc\u001b[0m \u001b[0;34m=\u001b[0m \u001b[0m__make_authenticated_dsc\u001b[0m\u001b[0;34m(\u001b[0m\u001b[0mstack\u001b[0m\u001b[0;34m,\u001b[0m \u001b[0muserIdentity\u001b[0m\u001b[0;34m,\u001b[0m \u001b[0muserPassword\u001b[0m\u001b[0;34m)\u001b[0m\u001b[0;34m\u001b[0m\u001b[0m\n\u001b[0m\u001b[1;32m     49\u001b[0m \u001b[0;34m\u001b[0m\u001b[0m\n\u001b[1;32m     50\u001b[0m     \u001b[0;32mreturn\u001b[0m \u001b[0;34m(\u001b[0m\u001b[0mstack\u001b[0m\u001b[0;34m,\u001b[0m \u001b[0mdsc\u001b[0m\u001b[0;34m)\u001b[0m\u001b[0;34m\u001b[0m\u001b[0m\n",
        "\u001b[0;32m/Library/Python/2.7/site-packages/ovation-2.0_SNAPSHOT-py2.7-macosx-10.8-x86_64.egg/ovation/testing.pyc\u001b[0m in \u001b[0;36m__make_authenticated_dsc\u001b[0;34m(local_stack, userIdentity, userPassword)\u001b[0m\n\u001b[1;32m     21\u001b[0m \u001b[0;34m\u001b[0m\u001b[0m\n\u001b[1;32m     22\u001b[0m     \u001b[0mdsc\u001b[0m \u001b[0;34m=\u001b[0m \u001b[0mlocal_stack\u001b[0m\u001b[0;34m.\u001b[0m\u001b[0mgetDataStoreCoordinator\u001b[0m\u001b[0;34m(\u001b[0m\u001b[0;34m)\u001b[0m\u001b[0;34m\u001b[0m\u001b[0m\n\u001b[0;32m---> 23\u001b[0;31m     \u001b[0mdsc\u001b[0m\u001b[0;34m.\u001b[0m\u001b[0mauthenticateUser\u001b[0m\u001b[0;34m(\u001b[0m\u001b[0muserIdentity\u001b[0m\u001b[0;34m,\u001b[0m \u001b[0mJArray\u001b[0m\u001b[0;34m(\u001b[0m\u001b[0;34m'char'\u001b[0m\u001b[0;34m)\u001b[0m\u001b[0;34m(\u001b[0m\u001b[0muserPassword\u001b[0m\u001b[0;34m)\u001b[0m\u001b[0;34m,\u001b[0m \u001b[0mFalse\u001b[0m\u001b[0;34m)\u001b[0m\u001b[0;34m.\u001b[0m\u001b[0mget\u001b[0m\u001b[0;34m(\u001b[0m\u001b[0;34m)\u001b[0m\u001b[0;34m\u001b[0m\u001b[0m\n\u001b[0m\u001b[1;32m     24\u001b[0m \u001b[0;34m\u001b[0m\u001b[0m\n\u001b[1;32m     25\u001b[0m     \u001b[0;32mreturn\u001b[0m \u001b[0mdsc\u001b[0m\u001b[0;34m\u001b[0m\u001b[0m\n",
        "\u001b[0;31mAttributeError\u001b[0m: 'ListenableFuture' object has no attribute 'get'"
       ]
      }
     ],
     "prompt_number": 3
    },
    {
     "cell_type": "heading",
     "level": 2,
     "metadata": {},
     "source": [
      "Data Store Coordinator"
     ]
    },
    {
     "cell_type": "markdown",
     "metadata": {},
     "source": [
      "Create a `DataStoreCoordinator` for creating a `DataContext`"
     ]
    },
    {
     "cell_type": "code",
     "collapsed": false,
     "input": [
      "from IPython.display import display, Javascript\n",
      "\n",
      "def nbgetpass(prompt=\"Enter Password\", passwd='passwd', email='email'):\n",
      "    display(Javascript(\"\"\"\n",
      "var dialog = $('<div/>').append(\n",
      "    $('<input/>')\n",
      "    .attr('id', 'email')\n",
      "    .attr('name', 'email')\n",
      "    .attr('type', 'email')\n",
      "    .attr('value', '')\n",
      "    ).append(\n",
      "        $('<input/>')\n",
      "        .attr('id', 'password')\n",
      "        .attr('name', 'password')\n",
      "        .attr('type', 'password')\n",
      "        .attr('value', '')\n",
      "    );\n",
      "$(document).append(dialog);\n",
      "dialog.dialog({\n",
      "    resizable: false,\n",
      "    modal: true,\n",
      "    title: \"%s\",\n",
      "    closeText: '',\n",
      "    buttons : {\n",
      "        \"Okay\": function () {\n",
      "            IPython.notebook.kernel.execute(\n",
      "                \"%s = '\" + $(\"input#password\").attr('value') + \"'\"\n",
      "            );\n",
      "            IPython.notebook.kernel.execute(\n",
      "                \"%s = '\" + $(\"input#email\").attr('value') + \"'\"\n",
      "            );\n",
      "            $(this).dialog('close');\n",
      "            dialog.remove();\n",
      "        },\n",
      "        \"Cancel\": function () {\n",
      "            $(this).dialog('close');\n",
      "            dialog.remove();\n",
      "        }\n",
      "    }\n",
      "});\n",
      "\"\"\" % (prompt, passwd, email)), include=['application/javascript'])"
     ],
     "language": "python",
     "metadata": {},
     "outputs": [],
     "prompt_number": 20
    },
    {
     "cell_type": "code",
     "collapsed": false,
     "input": [
      "nbgetpass(email=\"ovation_email\", passwd=\"ovation_pw\")"
     ],
     "language": "python",
     "metadata": {},
     "outputs": [
      {
       "javascript": [
        "\n",
        "var dialog = $('<div/>').append(\n",
        "    $('<input/>')\n",
        "    .attr('id', 'email')\n",
        "    .attr('name', 'email')\n",
        "    .attr('type', 'email')\n",
        "    .attr('value', '')\n",
        "    ).append(\n",
        "        $('<input/>')\n",
        "        .attr('id', 'password')\n",
        "        .attr('name', 'password')\n",
        "        .attr('type', 'password')\n",
        "        .attr('value', '')\n",
        "    );\n",
        "$(document).append(dialog);\n",
        "dialog.dialog({\n",
        "    resizable: false,\n",
        "    modal: true,\n",
        "    title: \"Enter Password\",\n",
        "    closeText: '',\n",
        "    buttons : {\n",
        "        \"Okay\": function () {\n",
        "            IPython.notebook.kernel.execute(\n",
        "                \"ovation_pw = '\" + $(\"input#password\").attr('value') + \"'\"\n",
        "            );\n",
        "            IPython.notebook.kernel.execute(\n",
        "                \"ovation_email = '\" + $(\"input#email\").attr('value') + \"'\"\n",
        "            );\n",
        "            $(this).dialog('close');\n",
        "            dialog.remove();\n",
        "        },\n",
        "        \"Cancel\": function () {\n",
        "            $(this).dialog('close');\n",
        "            dialog.remove();\n",
        "        }\n",
        "    }\n",
        "});\n"
       ],
       "output_type": "display_data"
      }
     ],
     "prompt_number": 21
    },
    {
     "cell_type": "code",
     "collapsed": false,
     "input": [
      "dataStoreCoordinator = connect(ovation_email, ovation_pw)\n",
      "del ovation_pw\n",
      "del ovation_email"
     ],
     "language": "python",
     "metadata": {},
     "outputs": [],
     "prompt_number": 22
    },
    {
     "cell_type": "markdown",
     "metadata": {},
     "source": [
      "Create a `DataContext` for interacting with the Ovation database"
     ]
    },
    {
     "cell_type": "code",
     "collapsed": false,
     "input": [
      "ctx = dataStoreCoordinator.getContext()"
     ],
     "language": "python",
     "metadata": {},
     "outputs": [],
     "prompt_number": 23
    },
    {
     "cell_type": "code",
     "collapsed": false,
     "input": [
      "source = ctx.insertSource('python','example-id')"
     ],
     "language": "python",
     "metadata": {},
     "outputs": [],
     "prompt_number": 24
    },
    {
     "cell_type": "code",
     "collapsed": false,
     "input": [
      "protocol = ctx.insertProtocol('protocol-1', 'We did something!')"
     ],
     "language": "python",
     "metadata": {},
     "outputs": [],
     "prompt_number": 25
    },
    {
     "cell_type": "code",
     "collapsed": false,
     "input": [
      "project = ctx.insertProject('A project', 'Inserting data from Python', DateTime())"
     ],
     "language": "python",
     "metadata": {},
     "outputs": [],
     "prompt_number": 26
    },
    {
     "cell_type": "code",
     "collapsed": false,
     "input": [
      "experiment = project.insertExperiment('An Experiment', DateTime())"
     ],
     "language": "python",
     "metadata": {},
     "outputs": [],
     "prompt_number": 27
    },
    {
     "cell_type": "code",
     "collapsed": false,
     "input": [
      "epochGroup = experiment.insertEpochGroup('Trial group', DateTime(), None, None, None) # No protocol, params, or deviceParams"
     ],
     "language": "python",
     "metadata": {},
     "outputs": [],
     "prompt_number": 28
    },
    {
     "cell_type": "code",
     "collapsed": false,
     "input": [
      "params = Maps.newHashMap()\n",
      "params.put('param1', 'value1')\n",
      "params.put('param2', 2)\n",
      "start = DateTime()\n",
      "end = start.plusSeconds(10)\n",
      "epoch = epochGroup.insertEpoch(start, end, protocol, params, params)"
     ],
     "language": "python",
     "metadata": {},
     "outputs": [],
     "prompt_number": 29
    },
    {
     "cell_type": "code",
     "collapsed": false,
     "input": [
      "data = NumericData()\n",
      "data.addData(\"trace1\", JArray_double(np.random.randn(10 * 1000)), \"mV\", 1000., 'Hz')"
     ],
     "language": "python",
     "metadata": {},
     "outputs": [],
     "prompt_number": 32
    },
    {
     "cell_type": "code",
     "collapsed": false,
     "input": [
      "m = epoch.insertNumericMeasurement(\"trace1\", None, None, data)"
     ],
     "language": "python",
     "metadata": {},
     "outputs": [],
     "prompt_number": 33
    },
    {
     "cell_type": "heading",
     "level": 2,
     "metadata": {},
     "source": [
      "Tagging"
     ]
    },
    {
     "cell_type": "code",
     "collapsed": false,
     "input": [
      "from ovation.wrapper import tag"
     ],
     "language": "python",
     "metadata": {},
     "outputs": []
    },
    {
     "cell_type": "code",
     "collapsed": false,
     "input": [
      "def tag(entity):\n",
      "    return Taggable.cast_(entity)"
     ],
     "language": "python",
     "metadata": {},
     "outputs": [],
     "prompt_number": 45
    },
    {
     "cell_type": "code",
     "collapsed": false,
     "input": [
      "tag(epoch).addTag('From Python!')"
     ],
     "language": "python",
     "metadata": {},
     "outputs": [],
     "prompt_number": 47
    },
    {
     "cell_type": "code",
     "collapsed": false,
     "input": [
      "t = tag(epoch)\n",
      "t.getAllTags()"
     ],
     "language": "python",
     "metadata": {},
     "outputs": [
      {
       "output_type": "pyout",
       "prompt_number": 50,
       "text": [
        "<Iterable: [From Python!]>"
       ]
      }
     ],
     "prompt_number": 50
    },
    {
     "cell_type": "heading",
     "level": 2,
     "metadata": {},
     "source": [
      "Getting data"
     ]
    },
    {
     "cell_type": "code",
     "collapsed": false,
     "input": [
      "m = NumericMeasurement.cast_(set(epoch.getMeasurements()).pop())\n",
      "d = m.getNumericData().getData()"
     ],
     "language": "python",
     "metadata": {},
     "outputs": [
      {
       "ename": "JavaError",
       "evalue": "java.lang.NullPointerException\n    Java stacktrace:\njava.lang.NullPointerException\n\tat com.google.common.base.Preconditions.checkNotNull(Preconditions.java:191)\n\tat com.google.common.base.Splitter.split(Splitter.java:375)\n\tat us.physion.cloud.CloudFileService.getContainer(CloudFileService.java:544)\n\tat us.physion.cloud.CloudFileService.getLocalFile(CloudFileService.java:377)\n\tat us.physion.ovation.domain.impl.Measurement.getData(Measurement.java:281)\n\tat us.physion.ovation.domain.impl.NumericMeasurement.getNumericData(NumericMeasurement.java:59)\n",
       "output_type": "pyerr",
       "traceback": [
        "\u001b[0;31m---------------------------------------------------------------------------\u001b[0m\n\u001b[0;31mJavaError\u001b[0m                                 Traceback (most recent call last)",
        "\u001b[0;32m<ipython-input-44-fdc18625b64d>\u001b[0m in \u001b[0;36m<module>\u001b[0;34m()\u001b[0m\n\u001b[1;32m      1\u001b[0m \u001b[0mm\u001b[0m \u001b[0;34m=\u001b[0m \u001b[0mNumericMeasurement\u001b[0m\u001b[0;34m.\u001b[0m\u001b[0mcast_\u001b[0m\u001b[0;34m(\u001b[0m\u001b[0mset\u001b[0m\u001b[0;34m(\u001b[0m\u001b[0mepoch\u001b[0m\u001b[0;34m.\u001b[0m\u001b[0mgetMeasurements\u001b[0m\u001b[0;34m(\u001b[0m\u001b[0;34m)\u001b[0m\u001b[0;34m)\u001b[0m\u001b[0;34m.\u001b[0m\u001b[0mpop\u001b[0m\u001b[0;34m(\u001b[0m\u001b[0;34m)\u001b[0m\u001b[0;34m)\u001b[0m\u001b[0;34m\u001b[0m\u001b[0m\n\u001b[0;32m----> 2\u001b[0;31m \u001b[0md\u001b[0m \u001b[0;34m=\u001b[0m \u001b[0mm\u001b[0m\u001b[0;34m.\u001b[0m\u001b[0mgetNumericData\u001b[0m\u001b[0;34m(\u001b[0m\u001b[0;34m)\u001b[0m\u001b[0;34m.\u001b[0m\u001b[0mgetData\u001b[0m\u001b[0;34m(\u001b[0m\u001b[0;34m)\u001b[0m\u001b[0;34m\u001b[0m\u001b[0m\n\u001b[0m",
        "\u001b[0;31mJavaError\u001b[0m: java.lang.NullPointerException\n    Java stacktrace:\njava.lang.NullPointerException\n\tat com.google.common.base.Preconditions.checkNotNull(Preconditions.java:191)\n\tat com.google.common.base.Splitter.split(Splitter.java:375)\n\tat us.physion.cloud.CloudFileService.getContainer(CloudFileService.java:544)\n\tat us.physion.cloud.CloudFileService.getLocalFile(CloudFileService.java:377)\n\tat us.physion.ovation.domain.impl.Measurement.getData(Measurement.java:281)\n\tat us.physion.ovation.domain.impl.NumericMeasurement.getNumericData(NumericMeasurement.java:59)\n"
       ]
      }
     ],
     "prompt_number": 44
    },
    {
     "cell_type": "raw",
     "metadata": {},
     "source": [
      "And we can convert the data to a quantities array"
     ]
    },
    {
     "cell_type": "code",
     "collapsed": false,
     "input": [
      "import quantities as pq\n",
      "data_element = d\n",
      "units = pq.Quantity([1], data_element.getUnits())\n",
      "shape = data_element.getShape()\n",
      "sampling_rates = data_element.getSamplingRates()\n",
      "sampling_rate_units = data_element.getSamplingRateUnits()\n",
      "dimension_labels = data_element.getDimensionLabels()\n",
      "\n",
      "arr = np.reshape(np.array(JArray_double.cast_(data_element.getData())) * units, shape)\n",
      "if len(sampling_rate_units) == 1:\n",
      "    arr.sampling_rate = pq.Quantity(sampling_rates, sampling_rate_units[0]) \n",
      "else:\n",
      "    arr.sampling_rates = tuple(pq.Quantity(rate, unit) for (rate,unit) in zip(sampling_rates, sampling_rate_units))\n",
      "\n",
      "arr.labels = dimension_labels\n",
      "arr"
     ],
     "language": "python",
     "metadata": {},
     "outputs": [
      {
       "ename": "NameError",
       "evalue": "name 'd' is not defined",
       "output_type": "pyerr",
       "traceback": [
        "\u001b[0;31m---------------------------------------------------------------------------\u001b[0m\n\u001b[0;31mNameError\u001b[0m                                 Traceback (most recent call last)",
        "\u001b[0;32m<ipython-input-43-8f9bed997dff>\u001b[0m in \u001b[0;36m<module>\u001b[0;34m()\u001b[0m\n\u001b[1;32m      1\u001b[0m \u001b[0;32mimport\u001b[0m \u001b[0mquantities\u001b[0m \u001b[0;32mas\u001b[0m \u001b[0mpq\u001b[0m\u001b[0;34m\u001b[0m\u001b[0m\n\u001b[0;32m----> 2\u001b[0;31m \u001b[0mdata_element\u001b[0m \u001b[0;34m=\u001b[0m \u001b[0md\u001b[0m\u001b[0;34m\u001b[0m\u001b[0m\n\u001b[0m\u001b[1;32m      3\u001b[0m \u001b[0munits\u001b[0m \u001b[0;34m=\u001b[0m \u001b[0mpq\u001b[0m\u001b[0;34m.\u001b[0m\u001b[0mQuantity\u001b[0m\u001b[0;34m(\u001b[0m\u001b[0;34m[\u001b[0m\u001b[0;36m1\u001b[0m\u001b[0;34m]\u001b[0m\u001b[0;34m,\u001b[0m \u001b[0mdata_element\u001b[0m\u001b[0;34m.\u001b[0m\u001b[0mgetUnits\u001b[0m\u001b[0;34m(\u001b[0m\u001b[0;34m)\u001b[0m\u001b[0;34m)\u001b[0m\u001b[0;34m\u001b[0m\u001b[0m\n\u001b[1;32m      4\u001b[0m \u001b[0mshape\u001b[0m \u001b[0;34m=\u001b[0m \u001b[0mdata_element\u001b[0m\u001b[0;34m.\u001b[0m\u001b[0mgetShape\u001b[0m\u001b[0;34m(\u001b[0m\u001b[0;34m)\u001b[0m\u001b[0;34m\u001b[0m\u001b[0m\n\u001b[1;32m      5\u001b[0m \u001b[0msampling_rates\u001b[0m \u001b[0;34m=\u001b[0m \u001b[0mdata_element\u001b[0m\u001b[0;34m.\u001b[0m\u001b[0mgetSamplingRates\u001b[0m\u001b[0;34m(\u001b[0m\u001b[0;34m)\u001b[0m\u001b[0;34m\u001b[0m\u001b[0m\n",
        "\u001b[0;31mNameError\u001b[0m: name 'd' is not defined"
       ]
      }
     ],
     "prompt_number": 43
    },
    {
     "cell_type": "heading",
     "level": 2,
     "metadata": {},
     "source": [
      "Clean up"
     ]
    },
    {
     "cell_type": "code",
     "collapsed": false,
     "input": [
      "local_stack.cleanUp()"
     ],
     "language": "python",
     "metadata": {},
     "outputs": [],
     "prompt_number": 75
    },
    {
     "cell_type": "code",
     "collapsed": false,
     "input": [],
     "language": "python",
     "metadata": {},
     "outputs": []
    }
   ],
   "metadata": {}
  }
 ]
}