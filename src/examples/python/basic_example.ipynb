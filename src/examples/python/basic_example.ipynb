{
 "metadata": {
  "name": "basic_example"
 },
 "nbformat": 3,
 "nbformat_minor": 0,
 "worksheets": [
  {
   "cells": [
    {
     "cell_type": "heading",
     "level": 1,
     "metadata": {},
     "source": [
      "Ovation Python API Introduction"
     ]
    },
    {
     "cell_type": "heading",
     "level": 2,
     "metadata": {},
     "source": [
      "Initialization"
     ]
    },
    {
     "cell_type": "markdown",
     "metadata": {},
     "source": [
      "You must call `initVM()` before using the Ovation API wrapper"
     ]
    },
    {
     "cell_type": "code",
     "collapsed": false,
     "input": [
      "from ovation import initVM, Ovation\n",
      "from ovation.connection import new_data_store_coodinator\n",
      "initVM();"
     ],
     "language": "python",
     "metadata": {},
     "outputs": [],
     "prompt_number": 1
    },
    {
     "cell_type": "heading",
     "level": 2,
     "metadata": {},
     "source": [
      "Testing"
     ]
    },
    {
     "cell_type": "markdown",
     "metadata": {},
     "source": [
      "For this demo, we create a local database stack. Normally you would **not** perform this step. Instead, you should continue with `new_data_store_coordinator` below."
     ]
    },
    {
     "cell_type": "code",
     "collapsed": false,
     "input": [
      "from ovation import *\n",
      "injector = LocalDatabaseStack.getInjector(OvationApiModule())\n",
      "localDatabaseStack = injector.getInstance(LocalDatabaseStack)\n",
      "\n",
      "port = LocalDatabaseStack.getNamedString(injector, OvationCouchModule.COUCH_PORT)\n",
      "host = LocalDatabaseStack.getNamedString(injector, OvationCouchModule.COUCH_HOST)\n",
      "localCouchUserName = LocalDatabaseStack.getNamedString(injector, OvationCouchModule.COUCH_PROCESS_OWNER)\n",
      "localCouchKeyStoreServiceName = LocalDatabaseStack.getNamedString(injector, OvationCouchModule.LOCAL_COUCH_KEY_STORE_SERVICE_NAME)\n",
      "\n",
      "keyStore = injector.getInstance(AccountKeyStore)\n",
      "\n",
      "userId = UUID.randomUUID();\n",
      "userIdentity = str(userId) + \"@email.com\"\n",
      "userPassword = \"password\"\n",
      "\n",
      "databaseName = userIdentity.replace(\"@\", \"-\").replace(\".\", \"-\")\n",
      "\n",
      "localStack = localDatabaseStack.createLocalDatabaseStack(databaseName,\n",
      "            userIdentity,\n",
      "            userPassword,\n",
      "            localCouchUserName,\n",
      "            localCouchKeyStoreServiceName,\n",
      "            host,\n",
      "            port,\n",
      "            userId,\n",
      "            keyStore)"
     ],
     "language": "python",
     "metadata": {},
     "outputs": [
      {
       "ename": "AttributeError",
       "evalue": "type object 'LocalDatabaseStack' has no attribute 'getInjector'",
       "output_type": "pyerr",
       "traceback": [
        "\u001b[0;31m---------------------------------------------------------------------------\u001b[0m\n\u001b[0;31mAttributeError\u001b[0m                            Traceback (most recent call last)",
        "\u001b[0;32m<ipython-input-7-2e0f8065733e>\u001b[0m in \u001b[0;36m<module>\u001b[0;34m()\u001b[0m\n\u001b[1;32m      1\u001b[0m \u001b[0;32mfrom\u001b[0m \u001b[0movation\u001b[0m \u001b[0;32mimport\u001b[0m \u001b[0;34m*\u001b[0m\u001b[0;34m\u001b[0m\u001b[0m\n\u001b[0;32m----> 2\u001b[0;31m \u001b[0minjector\u001b[0m \u001b[0;34m=\u001b[0m \u001b[0mLocalDatabaseStack\u001b[0m\u001b[0;34m.\u001b[0m\u001b[0mgetInjector\u001b[0m\u001b[0;34m(\u001b[0m\u001b[0mOvationApiModule\u001b[0m\u001b[0;34m(\u001b[0m\u001b[0;34m)\u001b[0m\u001b[0;34m)\u001b[0m\u001b[0;34m\u001b[0m\u001b[0m\n\u001b[0m\u001b[1;32m      3\u001b[0m \u001b[0mlocalDatabaseStack\u001b[0m \u001b[0;34m=\u001b[0m \u001b[0minjector\u001b[0m\u001b[0;34m.\u001b[0m\u001b[0mgetInstance\u001b[0m\u001b[0;34m(\u001b[0m\u001b[0mLocalDatabaseStack\u001b[0m\u001b[0;34m)\u001b[0m\u001b[0;34m\u001b[0m\u001b[0m\n\u001b[1;32m      4\u001b[0m \u001b[0;34m\u001b[0m\u001b[0m\n\u001b[1;32m      5\u001b[0m \u001b[0mport\u001b[0m \u001b[0;34m=\u001b[0m \u001b[0mLocalDatabaseStack\u001b[0m\u001b[0;34m.\u001b[0m\u001b[0mgetNamedString\u001b[0m\u001b[0;34m(\u001b[0m\u001b[0minjector\u001b[0m\u001b[0;34m,\u001b[0m \u001b[0mOvationCouchModule\u001b[0m\u001b[0;34m.\u001b[0m\u001b[0mCOUCH_PORT\u001b[0m\u001b[0;34m)\u001b[0m\u001b[0;34m\u001b[0m\u001b[0m\n",
        "\u001b[0;31mAttributeError\u001b[0m: type object 'LocalDatabaseStack' has no attribute 'getInjector'"
       ]
      }
     ],
     "prompt_number": 7
    },
    {
     "cell_type": "code",
     "collapsed": false,
     "input": [
      "LocalDatabaseStack."
     ],
     "language": "python",
     "metadata": {},
     "outputs": [
      {
       "output_type": "pyout",
       "prompt_number": 11,
       "text": [
        "JArray<object>[]"
       ]
      }
     ],
     "prompt_number": 11
    },
    {
     "cell_type": "heading",
     "level": 2,
     "metadata": {},
     "source": [
      "Data Store Coordinator"
     ]
    },
    {
     "cell_type": "markdown",
     "metadata": {},
     "source": [
      "Create a `DataStoreCoordinator` for creating a `DataContext`"
     ]
    },
    {
     "cell_type": "code",
     "collapsed": false,
     "input": [
      "dataStoreCoordinator = new_data_store_coodinator('ipython', 'info@physion.us')\n",
      "#TODO authenticate dsc"
     ],
     "language": "python",
     "metadata": {},
     "outputs": []
    },
    {
     "cell_type": "markdown",
     "metadata": {},
     "source": [
      "Create a `DataContext` for interacting with the Ovation database"
     ]
    },
    {
     "cell_type": "code",
     "collapsed": false,
     "input": [
      "ctx = dataStoreCoordinator.getContext()"
     ],
     "language": "python",
     "metadata": {},
     "outputs": []
    },
    {
     "cell_type": "code",
     "collapsed": false,
     "input": [
      "source = ctx.insertSource('python','example-id')"
     ],
     "language": "python",
     "metadata": {},
     "outputs": []
    }
   ],
   "metadata": {}
  }
 ]
}